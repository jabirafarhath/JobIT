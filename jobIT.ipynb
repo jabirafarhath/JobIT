{
  "cells": [
    {
      "cell_type": "code",
      "execution_count": null,
      "metadata": {
        "id": "0b7whif6AvzA"
      },
      "outputs": [],
      "source": []
    },
    {
      "cell_type": "markdown",
      "metadata": {
        "id": "vx23m9aKDllW"
      },
      "source": [
        "# **Importing Libraries**"
      ]
    },
    {
      "cell_type": "code",
      "execution_count": 136,
      "metadata": {
        "id": "9AsU3yflAw06"
      },
      "outputs": [],
      "source": [
        "import pandas as pd\n",
        "import numpy as np\n",
        "import matplotlib.pyplot as plt\n",
        "import seaborn as sns\n"
      ]
    },
    {
      "cell_type": "code",
      "execution_count": null,
      "metadata": {
        "id": "tUKfQO1dAw3d"
      },
      "outputs": [],
      "source": []
    },
    {
      "cell_type": "markdown",
      "metadata": {
        "id": "UndJgkW2EED7"
      },
      "source": [
        "# **Data Preprocessing**"
      ]
    },
    {
      "cell_type": "code",
      "execution_count": 137,
      "metadata": {
        "id": "oOFK9QFiAw6O"
      },
      "outputs": [],
      "source": [
        "df = pd.read_csv('career_pred.csv')"
      ]
    },
    {
      "cell_type": "code",
      "execution_count": 138,
      "metadata": {
        "colab": {
          "base_uri": "https://localhost:8080/",
          "height": 490
        },
        "id": "gn0i0JnOAw8q",
        "outputId": "c4e672d1-1ccb-4e81-86c3-6cfb340dfcb0"
      },
      "outputs": [
        {
          "data": {
            "text/html": [
              "<div>\n",
              "<style scoped>\n",
              "    .dataframe tbody tr th:only-of-type {\n",
              "        vertical-align: middle;\n",
              "    }\n",
              "\n",
              "    .dataframe tbody tr th {\n",
              "        vertical-align: top;\n",
              "    }\n",
              "\n",
              "    .dataframe thead th {\n",
              "        text-align: right;\n",
              "    }\n",
              "</style>\n",
              "<table border=\"1\" class=\"dataframe\">\n",
              "  <thead>\n",
              "    <tr style=\"text-align: right;\">\n",
              "      <th></th>\n",
              "      <th>Acedamic percentage in Operating Systems</th>\n",
              "      <th>percentage in Algorithms</th>\n",
              "      <th>Percentage in Programming Concepts</th>\n",
              "      <th>Percentage in Software Engineering</th>\n",
              "      <th>Percentage in Computer Networks</th>\n",
              "      <th>Percentage in Electronics Subjects</th>\n",
              "      <th>Percentage in Computer Architecture</th>\n",
              "      <th>Percentage in Mathematics</th>\n",
              "      <th>Percentage in Communication skills</th>\n",
              "      <th>Hours working per day</th>\n",
              "      <th>...</th>\n",
              "      <th>Interested Type of Books</th>\n",
              "      <th>Salary Range Expected</th>\n",
              "      <th>In a Realtionship?</th>\n",
              "      <th>Gentle or Tuff behaviour?</th>\n",
              "      <th>Management or Technical</th>\n",
              "      <th>Salary/work</th>\n",
              "      <th>hard/smart worker</th>\n",
              "      <th>worked in teams ever?</th>\n",
              "      <th>Introvert</th>\n",
              "      <th>Suggested Job Role</th>\n",
              "    </tr>\n",
              "  </thead>\n",
              "  <tbody>\n",
              "    <tr>\n",
              "      <th>0</th>\n",
              "      <td>69</td>\n",
              "      <td>63</td>\n",
              "      <td>78</td>\n",
              "      <td>87</td>\n",
              "      <td>94</td>\n",
              "      <td>94</td>\n",
              "      <td>87</td>\n",
              "      <td>84</td>\n",
              "      <td>61</td>\n",
              "      <td>9</td>\n",
              "      <td>...</td>\n",
              "      <td>Prayer books</td>\n",
              "      <td>salary</td>\n",
              "      <td>no</td>\n",
              "      <td>stubborn</td>\n",
              "      <td>Management</td>\n",
              "      <td>salary</td>\n",
              "      <td>hard worker</td>\n",
              "      <td>yes</td>\n",
              "      <td>no</td>\n",
              "      <td>Database Developer</td>\n",
              "    </tr>\n",
              "    <tr>\n",
              "      <th>1</th>\n",
              "      <td>78</td>\n",
              "      <td>62</td>\n",
              "      <td>73</td>\n",
              "      <td>60</td>\n",
              "      <td>71</td>\n",
              "      <td>70</td>\n",
              "      <td>73</td>\n",
              "      <td>84</td>\n",
              "      <td>91</td>\n",
              "      <td>12</td>\n",
              "      <td>...</td>\n",
              "      <td>Childrens</td>\n",
              "      <td>salary</td>\n",
              "      <td>yes</td>\n",
              "      <td>gentle</td>\n",
              "      <td>Technical</td>\n",
              "      <td>salary</td>\n",
              "      <td>hard worker</td>\n",
              "      <td>no</td>\n",
              "      <td>yes</td>\n",
              "      <td>Portal Administrator</td>\n",
              "    </tr>\n",
              "    <tr>\n",
              "      <th>2</th>\n",
              "      <td>71</td>\n",
              "      <td>86</td>\n",
              "      <td>91</td>\n",
              "      <td>87</td>\n",
              "      <td>61</td>\n",
              "      <td>81</td>\n",
              "      <td>72</td>\n",
              "      <td>72</td>\n",
              "      <td>94</td>\n",
              "      <td>11</td>\n",
              "      <td>...</td>\n",
              "      <td>Travel</td>\n",
              "      <td>Work</td>\n",
              "      <td>no</td>\n",
              "      <td>stubborn</td>\n",
              "      <td>Management</td>\n",
              "      <td>work</td>\n",
              "      <td>hard worker</td>\n",
              "      <td>no</td>\n",
              "      <td>yes</td>\n",
              "      <td>Portal Administrator</td>\n",
              "    </tr>\n",
              "    <tr>\n",
              "      <th>3</th>\n",
              "      <td>76</td>\n",
              "      <td>87</td>\n",
              "      <td>60</td>\n",
              "      <td>84</td>\n",
              "      <td>89</td>\n",
              "      <td>73</td>\n",
              "      <td>62</td>\n",
              "      <td>88</td>\n",
              "      <td>69</td>\n",
              "      <td>7</td>\n",
              "      <td>...</td>\n",
              "      <td>Romance</td>\n",
              "      <td>Work</td>\n",
              "      <td>yes</td>\n",
              "      <td>gentle</td>\n",
              "      <td>Management</td>\n",
              "      <td>work</td>\n",
              "      <td>smart worker</td>\n",
              "      <td>yes</td>\n",
              "      <td>yes</td>\n",
              "      <td>Systems Security Administrator</td>\n",
              "    </tr>\n",
              "    <tr>\n",
              "      <th>4</th>\n",
              "      <td>92</td>\n",
              "      <td>62</td>\n",
              "      <td>90</td>\n",
              "      <td>67</td>\n",
              "      <td>71</td>\n",
              "      <td>89</td>\n",
              "      <td>73</td>\n",
              "      <td>71</td>\n",
              "      <td>73</td>\n",
              "      <td>4</td>\n",
              "      <td>...</td>\n",
              "      <td>Cookbooks</td>\n",
              "      <td>salary</td>\n",
              "      <td>no</td>\n",
              "      <td>stubborn</td>\n",
              "      <td>Management</td>\n",
              "      <td>work</td>\n",
              "      <td>hard worker</td>\n",
              "      <td>yes</td>\n",
              "      <td>yes</td>\n",
              "      <td>Business Systems Analyst</td>\n",
              "    </tr>\n",
              "  </tbody>\n",
              "</table>\n",
              "<p>5 rows × 39 columns</p>\n",
              "</div>"
            ],
            "text/plain": [
              "   Acedamic percentage in Operating Systems  percentage in Algorithms  \\\n",
              "0                                        69                        63   \n",
              "1                                        78                        62   \n",
              "2                                        71                        86   \n",
              "3                                        76                        87   \n",
              "4                                        92                        62   \n",
              "\n",
              "   Percentage in Programming Concepts  Percentage in Software Engineering  \\\n",
              "0                                  78                                  87   \n",
              "1                                  73                                  60   \n",
              "2                                  91                                  87   \n",
              "3                                  60                                  84   \n",
              "4                                  90                                  67   \n",
              "\n",
              "   Percentage in Computer Networks  Percentage in Electronics Subjects  \\\n",
              "0                               94                                  94   \n",
              "1                               71                                  70   \n",
              "2                               61                                  81   \n",
              "3                               89                                  73   \n",
              "4                               71                                  89   \n",
              "\n",
              "   Percentage in Computer Architecture  Percentage in Mathematics  \\\n",
              "0                                   87                         84   \n",
              "1                                   73                         84   \n",
              "2                                   72                         72   \n",
              "3                                   62                         88   \n",
              "4                                   73                         71   \n",
              "\n",
              "   Percentage in Communication skills  Hours working per day  ...  \\\n",
              "0                                  61                      9  ...   \n",
              "1                                  91                     12  ...   \n",
              "2                                  94                     11  ...   \n",
              "3                                  69                      7  ...   \n",
              "4                                  73                      4  ...   \n",
              "\n",
              "   Interested Type of Books  Salary Range Expected  In a Realtionship?  \\\n",
              "0              Prayer books                 salary                  no   \n",
              "1                 Childrens                 salary                 yes   \n",
              "2                    Travel                   Work                  no   \n",
              "3                   Romance                   Work                 yes   \n",
              "4                 Cookbooks                 salary                  no   \n",
              "\n",
              "   Gentle or Tuff behaviour? Management or Technical Salary/work  \\\n",
              "0                   stubborn              Management      salary   \n",
              "1                     gentle               Technical      salary   \n",
              "2                   stubborn              Management        work   \n",
              "3                     gentle              Management        work   \n",
              "4                   stubborn              Management        work   \n",
              "\n",
              "  hard/smart worker worked in teams ever? Introvert  \\\n",
              "0       hard worker                   yes        no   \n",
              "1       hard worker                    no       yes   \n",
              "2       hard worker                    no       yes   \n",
              "3      smart worker                   yes       yes   \n",
              "4       hard worker                   yes       yes   \n",
              "\n",
              "               Suggested Job Role  \n",
              "0              Database Developer  \n",
              "1            Portal Administrator  \n",
              "2            Portal Administrator  \n",
              "3  Systems Security Administrator  \n",
              "4        Business Systems Analyst  \n",
              "\n",
              "[5 rows x 39 columns]"
            ]
          },
          "execution_count": 138,
          "metadata": {},
          "output_type": "execute_result"
        }
      ],
      "source": [
        "df.head()"
      ]
    },
    {
      "cell_type": "markdown",
      "metadata": {
        "id": "iJ4a6EmqFrXv"
      },
      "source": [
        "deleting null values"
      ]
    },
    {
      "cell_type": "code",
      "execution_count": 139,
      "metadata": {
        "colab": {
          "base_uri": "https://localhost:8080/"
        },
        "id": "cBnDa7o6Fl5E",
        "outputId": "132cb333-8edb-41b2-bf61-7f185291b9e4"
      },
      "outputs": [
        {
          "data": {
            "text/plain": [
              "Acedamic percentage in Operating Systems    0\n",
              "percentage in Algorithms                    0\n",
              "Percentage in Programming Concepts          0\n",
              "Percentage in Software Engineering          0\n",
              "Percentage in Computer Networks             0\n",
              "Percentage in Electronics Subjects          0\n",
              "Percentage in Computer Architecture         0\n",
              "Percentage in Mathematics                   0\n",
              "Percentage in Communication skills          0\n",
              "Hours working per day                       0\n",
              "Logical quotient rating                     0\n",
              "hackathons                                  0\n",
              "coding skills rating                        0\n",
              "public speaking points                      0\n",
              "can work long time before system?           0\n",
              "self-learning capability?                   0\n",
              "Extra-courses did                           0\n",
              "certifications                              0\n",
              "workshops                                   0\n",
              "talenttests taken?                          0\n",
              "olympiads                                   0\n",
              "reading and writing skills                  0\n",
              "memory capability score                     0\n",
              "Interested subjects                         0\n",
              "interested career area                      0\n",
              "Job/Higher Studies?                         0\n",
              "Type of company want to settle in?          0\n",
              "Taken inputs from seniors or elders         0\n",
              "interested in games                         0\n",
              "Interested Type of Books                    0\n",
              "Salary Range Expected                       0\n",
              "In a Realtionship?                          0\n",
              "Gentle or Tuff behaviour?                   0\n",
              "Management or Technical                     0\n",
              "Salary/work                                 0\n",
              "hard/smart worker                           0\n",
              "worked in teams ever?                       0\n",
              "Introvert                                   0\n",
              "Suggested Job Role                          0\n",
              "dtype: int64"
            ]
          },
          "execution_count": 139,
          "metadata": {},
          "output_type": "execute_result"
        }
      ],
      "source": [
        "df.isnull().sum()"
      ]
    },
    {
      "cell_type": "code",
      "execution_count": 140,
      "metadata": {
        "id": "Ld-UuPi0gDxh"
      },
      "outputs": [],
      "source": [
        "df = df.drop('Salary Range Expected',axis = 'columns')"
      ]
    },
    {
      "cell_type": "code",
      "execution_count": 141,
      "metadata": {
        "colab": {
          "base_uri": "https://localhost:8080/",
          "height": 835
        },
        "id": "_I1L9cf3Fl1s",
        "outputId": "2516af91-511f-49f3-bd37-830078a5c48c"
      },
      "outputs": [
        {
          "data": {
            "text/html": [
              "<div>\n",
              "<style scoped>\n",
              "    .dataframe tbody tr th:only-of-type {\n",
              "        vertical-align: middle;\n",
              "    }\n",
              "\n",
              "    .dataframe tbody tr th {\n",
              "        vertical-align: top;\n",
              "    }\n",
              "\n",
              "    .dataframe thead th {\n",
              "        text-align: right;\n",
              "    }\n",
              "</style>\n",
              "<table border=\"1\" class=\"dataframe\">\n",
              "  <thead>\n",
              "    <tr style=\"text-align: right;\">\n",
              "      <th></th>\n",
              "      <th>Acedamic percentage in Operating Systems</th>\n",
              "      <th>percentage in Algorithms</th>\n",
              "      <th>Percentage in Programming Concepts</th>\n",
              "      <th>Percentage in Software Engineering</th>\n",
              "      <th>Percentage in Computer Networks</th>\n",
              "      <th>Percentage in Electronics Subjects</th>\n",
              "      <th>Percentage in Computer Architecture</th>\n",
              "      <th>Percentage in Mathematics</th>\n",
              "      <th>Percentage in Communication skills</th>\n",
              "      <th>Hours working per day</th>\n",
              "      <th>...</th>\n",
              "      <th>interested in games</th>\n",
              "      <th>Interested Type of Books</th>\n",
              "      <th>In a Realtionship?</th>\n",
              "      <th>Gentle or Tuff behaviour?</th>\n",
              "      <th>Management or Technical</th>\n",
              "      <th>Salary/work</th>\n",
              "      <th>hard/smart worker</th>\n",
              "      <th>worked in teams ever?</th>\n",
              "      <th>Introvert</th>\n",
              "      <th>Suggested Job Role</th>\n",
              "    </tr>\n",
              "  </thead>\n",
              "  <tbody>\n",
              "    <tr>\n",
              "      <th>0</th>\n",
              "      <td>69</td>\n",
              "      <td>63</td>\n",
              "      <td>78</td>\n",
              "      <td>87</td>\n",
              "      <td>94</td>\n",
              "      <td>94</td>\n",
              "      <td>87</td>\n",
              "      <td>84</td>\n",
              "      <td>61</td>\n",
              "      <td>9</td>\n",
              "      <td>...</td>\n",
              "      <td>no</td>\n",
              "      <td>Prayer books</td>\n",
              "      <td>no</td>\n",
              "      <td>stubborn</td>\n",
              "      <td>Management</td>\n",
              "      <td>salary</td>\n",
              "      <td>hard worker</td>\n",
              "      <td>yes</td>\n",
              "      <td>no</td>\n",
              "      <td>Database Developer</td>\n",
              "    </tr>\n",
              "    <tr>\n",
              "      <th>1</th>\n",
              "      <td>78</td>\n",
              "      <td>62</td>\n",
              "      <td>73</td>\n",
              "      <td>60</td>\n",
              "      <td>71</td>\n",
              "      <td>70</td>\n",
              "      <td>73</td>\n",
              "      <td>84</td>\n",
              "      <td>91</td>\n",
              "      <td>12</td>\n",
              "      <td>...</td>\n",
              "      <td>yes</td>\n",
              "      <td>Childrens</td>\n",
              "      <td>yes</td>\n",
              "      <td>gentle</td>\n",
              "      <td>Technical</td>\n",
              "      <td>salary</td>\n",
              "      <td>hard worker</td>\n",
              "      <td>no</td>\n",
              "      <td>yes</td>\n",
              "      <td>Portal Administrator</td>\n",
              "    </tr>\n",
              "    <tr>\n",
              "      <th>2</th>\n",
              "      <td>71</td>\n",
              "      <td>86</td>\n",
              "      <td>91</td>\n",
              "      <td>87</td>\n",
              "      <td>61</td>\n",
              "      <td>81</td>\n",
              "      <td>72</td>\n",
              "      <td>72</td>\n",
              "      <td>94</td>\n",
              "      <td>11</td>\n",
              "      <td>...</td>\n",
              "      <td>yes</td>\n",
              "      <td>Travel</td>\n",
              "      <td>no</td>\n",
              "      <td>stubborn</td>\n",
              "      <td>Management</td>\n",
              "      <td>work</td>\n",
              "      <td>hard worker</td>\n",
              "      <td>no</td>\n",
              "      <td>yes</td>\n",
              "      <td>Portal Administrator</td>\n",
              "    </tr>\n",
              "    <tr>\n",
              "      <th>3</th>\n",
              "      <td>76</td>\n",
              "      <td>87</td>\n",
              "      <td>60</td>\n",
              "      <td>84</td>\n",
              "      <td>89</td>\n",
              "      <td>73</td>\n",
              "      <td>62</td>\n",
              "      <td>88</td>\n",
              "      <td>69</td>\n",
              "      <td>7</td>\n",
              "      <td>...</td>\n",
              "      <td>no</td>\n",
              "      <td>Romance</td>\n",
              "      <td>yes</td>\n",
              "      <td>gentle</td>\n",
              "      <td>Management</td>\n",
              "      <td>work</td>\n",
              "      <td>smart worker</td>\n",
              "      <td>yes</td>\n",
              "      <td>yes</td>\n",
              "      <td>Systems Security Administrator</td>\n",
              "    </tr>\n",
              "    <tr>\n",
              "      <th>4</th>\n",
              "      <td>92</td>\n",
              "      <td>62</td>\n",
              "      <td>90</td>\n",
              "      <td>67</td>\n",
              "      <td>71</td>\n",
              "      <td>89</td>\n",
              "      <td>73</td>\n",
              "      <td>71</td>\n",
              "      <td>73</td>\n",
              "      <td>4</td>\n",
              "      <td>...</td>\n",
              "      <td>yes</td>\n",
              "      <td>Cookbooks</td>\n",
              "      <td>no</td>\n",
              "      <td>stubborn</td>\n",
              "      <td>Management</td>\n",
              "      <td>work</td>\n",
              "      <td>hard worker</td>\n",
              "      <td>yes</td>\n",
              "      <td>yes</td>\n",
              "      <td>Business Systems Analyst</td>\n",
              "    </tr>\n",
              "    <tr>\n",
              "      <th>...</th>\n",
              "      <td>...</td>\n",
              "      <td>...</td>\n",
              "      <td>...</td>\n",
              "      <td>...</td>\n",
              "      <td>...</td>\n",
              "      <td>...</td>\n",
              "      <td>...</td>\n",
              "      <td>...</td>\n",
              "      <td>...</td>\n",
              "      <td>...</td>\n",
              "      <td>...</td>\n",
              "      <td>...</td>\n",
              "      <td>...</td>\n",
              "      <td>...</td>\n",
              "      <td>...</td>\n",
              "      <td>...</td>\n",
              "      <td>...</td>\n",
              "      <td>...</td>\n",
              "      <td>...</td>\n",
              "      <td>...</td>\n",
              "      <td>...</td>\n",
              "    </tr>\n",
              "    <tr>\n",
              "      <th>19995</th>\n",
              "      <td>83</td>\n",
              "      <td>67</td>\n",
              "      <td>62</td>\n",
              "      <td>63</td>\n",
              "      <td>81</td>\n",
              "      <td>74</td>\n",
              "      <td>90</td>\n",
              "      <td>84</td>\n",
              "      <td>69</td>\n",
              "      <td>4</td>\n",
              "      <td>...</td>\n",
              "      <td>yes</td>\n",
              "      <td>Journals</td>\n",
              "      <td>yes</td>\n",
              "      <td>stubborn</td>\n",
              "      <td>Management</td>\n",
              "      <td>salary</td>\n",
              "      <td>smart worker</td>\n",
              "      <td>yes</td>\n",
              "      <td>no</td>\n",
              "      <td>Technical Engineer</td>\n",
              "    </tr>\n",
              "    <tr>\n",
              "      <th>19996</th>\n",
              "      <td>80</td>\n",
              "      <td>69</td>\n",
              "      <td>83</td>\n",
              "      <td>87</td>\n",
              "      <td>82</td>\n",
              "      <td>66</td>\n",
              "      <td>66</td>\n",
              "      <td>92</td>\n",
              "      <td>67</td>\n",
              "      <td>7</td>\n",
              "      <td>...</td>\n",
              "      <td>yes</td>\n",
              "      <td>Cookbooks</td>\n",
              "      <td>no</td>\n",
              "      <td>stubborn</td>\n",
              "      <td>Management</td>\n",
              "      <td>salary</td>\n",
              "      <td>hard worker</td>\n",
              "      <td>no</td>\n",
              "      <td>yes</td>\n",
              "      <td>E-Commerce Analyst</td>\n",
              "    </tr>\n",
              "    <tr>\n",
              "      <th>19997</th>\n",
              "      <td>83</td>\n",
              "      <td>70</td>\n",
              "      <td>80</td>\n",
              "      <td>87</td>\n",
              "      <td>64</td>\n",
              "      <td>85</td>\n",
              "      <td>69</td>\n",
              "      <td>94</td>\n",
              "      <td>88</td>\n",
              "      <td>7</td>\n",
              "      <td>...</td>\n",
              "      <td>yes</td>\n",
              "      <td>Drama</td>\n",
              "      <td>yes</td>\n",
              "      <td>gentle</td>\n",
              "      <td>Technical</td>\n",
              "      <td>work</td>\n",
              "      <td>hard worker</td>\n",
              "      <td>no</td>\n",
              "      <td>yes</td>\n",
              "      <td>Business Intelligence Analyst</td>\n",
              "    </tr>\n",
              "    <tr>\n",
              "      <th>19998</th>\n",
              "      <td>68</td>\n",
              "      <td>87</td>\n",
              "      <td>91</td>\n",
              "      <td>88</td>\n",
              "      <td>66</td>\n",
              "      <td>74</td>\n",
              "      <td>61</td>\n",
              "      <td>87</td>\n",
              "      <td>61</td>\n",
              "      <td>5</td>\n",
              "      <td>...</td>\n",
              "      <td>no</td>\n",
              "      <td>Travel</td>\n",
              "      <td>no</td>\n",
              "      <td>gentle</td>\n",
              "      <td>Management</td>\n",
              "      <td>work</td>\n",
              "      <td>smart worker</td>\n",
              "      <td>yes</td>\n",
              "      <td>no</td>\n",
              "      <td>Software Quality Assurance (QA) / Testing</td>\n",
              "    </tr>\n",
              "    <tr>\n",
              "      <th>19999</th>\n",
              "      <td>73</td>\n",
              "      <td>77</td>\n",
              "      <td>74</td>\n",
              "      <td>84</td>\n",
              "      <td>70</td>\n",
              "      <td>65</td>\n",
              "      <td>92</td>\n",
              "      <td>73</td>\n",
              "      <td>90</td>\n",
              "      <td>7</td>\n",
              "      <td>...</td>\n",
              "      <td>no</td>\n",
              "      <td>Comics</td>\n",
              "      <td>no</td>\n",
              "      <td>gentle</td>\n",
              "      <td>Management</td>\n",
              "      <td>work</td>\n",
              "      <td>hard worker</td>\n",
              "      <td>yes</td>\n",
              "      <td>no</td>\n",
              "      <td>Applications Developer</td>\n",
              "    </tr>\n",
              "  </tbody>\n",
              "</table>\n",
              "<p>20000 rows × 38 columns</p>\n",
              "</div>"
            ],
            "text/plain": [
              "       Acedamic percentage in Operating Systems  percentage in Algorithms  \\\n",
              "0                                            69                        63   \n",
              "1                                            78                        62   \n",
              "2                                            71                        86   \n",
              "3                                            76                        87   \n",
              "4                                            92                        62   \n",
              "...                                         ...                       ...   \n",
              "19995                                        83                        67   \n",
              "19996                                        80                        69   \n",
              "19997                                        83                        70   \n",
              "19998                                        68                        87   \n",
              "19999                                        73                        77   \n",
              "\n",
              "       Percentage in Programming Concepts  Percentage in Software Engineering  \\\n",
              "0                                      78                                  87   \n",
              "1                                      73                                  60   \n",
              "2                                      91                                  87   \n",
              "3                                      60                                  84   \n",
              "4                                      90                                  67   \n",
              "...                                   ...                                 ...   \n",
              "19995                                  62                                  63   \n",
              "19996                                  83                                  87   \n",
              "19997                                  80                                  87   \n",
              "19998                                  91                                  88   \n",
              "19999                                  74                                  84   \n",
              "\n",
              "       Percentage in Computer Networks  Percentage in Electronics Subjects  \\\n",
              "0                                   94                                  94   \n",
              "1                                   71                                  70   \n",
              "2                                   61                                  81   \n",
              "3                                   89                                  73   \n",
              "4                                   71                                  89   \n",
              "...                                ...                                 ...   \n",
              "19995                               81                                  74   \n",
              "19996                               82                                  66   \n",
              "19997                               64                                  85   \n",
              "19998                               66                                  74   \n",
              "19999                               70                                  65   \n",
              "\n",
              "       Percentage in Computer Architecture  Percentage in Mathematics  \\\n",
              "0                                       87                         84   \n",
              "1                                       73                         84   \n",
              "2                                       72                         72   \n",
              "3                                       62                         88   \n",
              "4                                       73                         71   \n",
              "...                                    ...                        ...   \n",
              "19995                                   90                         84   \n",
              "19996                                   66                         92   \n",
              "19997                                   69                         94   \n",
              "19998                                   61                         87   \n",
              "19999                                   92                         73   \n",
              "\n",
              "       Percentage in Communication skills  Hours working per day  ...  \\\n",
              "0                                      61                      9  ...   \n",
              "1                                      91                     12  ...   \n",
              "2                                      94                     11  ...   \n",
              "3                                      69                      7  ...   \n",
              "4                                      73                      4  ...   \n",
              "...                                   ...                    ...  ...   \n",
              "19995                                  69                      4  ...   \n",
              "19996                                  67                      7  ...   \n",
              "19997                                  88                      7  ...   \n",
              "19998                                  61                      5  ...   \n",
              "19999                                  90                      7  ...   \n",
              "\n",
              "       interested in games  Interested Type of Books  In a Realtionship?  \\\n",
              "0                       no              Prayer books                  no   \n",
              "1                      yes                 Childrens                 yes   \n",
              "2                      yes                    Travel                  no   \n",
              "3                       no                   Romance                 yes   \n",
              "4                      yes                 Cookbooks                  no   \n",
              "...                    ...                       ...                 ...   \n",
              "19995                  yes                  Journals                 yes   \n",
              "19996                  yes                 Cookbooks                  no   \n",
              "19997                  yes                     Drama                 yes   \n",
              "19998                   no                    Travel                  no   \n",
              "19999                   no                    Comics                  no   \n",
              "\n",
              "       Gentle or Tuff behaviour? Management or Technical Salary/work  \\\n",
              "0                       stubborn              Management      salary   \n",
              "1                         gentle               Technical      salary   \n",
              "2                       stubborn              Management        work   \n",
              "3                         gentle              Management        work   \n",
              "4                       stubborn              Management        work   \n",
              "...                          ...                     ...         ...   \n",
              "19995                   stubborn              Management      salary   \n",
              "19996                   stubborn              Management      salary   \n",
              "19997                     gentle               Technical        work   \n",
              "19998                     gentle              Management        work   \n",
              "19999                     gentle              Management        work   \n",
              "\n",
              "      hard/smart worker worked in teams ever? Introvert  \\\n",
              "0           hard worker                   yes        no   \n",
              "1           hard worker                    no       yes   \n",
              "2           hard worker                    no       yes   \n",
              "3          smart worker                   yes       yes   \n",
              "4           hard worker                   yes       yes   \n",
              "...                 ...                   ...       ...   \n",
              "19995      smart worker                   yes        no   \n",
              "19996       hard worker                    no       yes   \n",
              "19997       hard worker                    no       yes   \n",
              "19998      smart worker                   yes        no   \n",
              "19999       hard worker                   yes        no   \n",
              "\n",
              "                              Suggested Job Role  \n",
              "0                             Database Developer  \n",
              "1                           Portal Administrator  \n",
              "2                           Portal Administrator  \n",
              "3                 Systems Security Administrator  \n",
              "4                       Business Systems Analyst  \n",
              "...                                          ...  \n",
              "19995                         Technical Engineer  \n",
              "19996                         E-Commerce Analyst  \n",
              "19997              Business Intelligence Analyst  \n",
              "19998  Software Quality Assurance (QA) / Testing  \n",
              "19999                     Applications Developer  \n",
              "\n",
              "[20000 rows x 38 columns]"
            ]
          },
          "execution_count": 141,
          "metadata": {},
          "output_type": "execute_result"
        }
      ],
      "source": [
        "df.dropna()"
      ]
    },
    {
      "cell_type": "markdown",
      "metadata": {
        "id": "e1fyAQiEFlCa"
      },
      "source": [
        "**converting to numeric values**\n"
      ]
    },
    {
      "cell_type": "code",
      "execution_count": 142,
      "metadata": {
        "colab": {
          "base_uri": "https://localhost:8080/"
        },
        "id": "INwWsymYAw_N",
        "outputId": "810ab899-a197-4df6-b300-f51552f17cf5"
      },
      "outputs": [
        {
          "name": "stdout",
          "output_type": "stream",
          "text": [
            "<class 'pandas.core.frame.DataFrame'>\n",
            "RangeIndex: 20000 entries, 0 to 19999\n",
            "Data columns (total 38 columns):\n",
            " #   Column                                    Non-Null Count  Dtype \n",
            "---  ------                                    --------------  ----- \n",
            " 0   Acedamic percentage in Operating Systems  20000 non-null  int64 \n",
            " 1   percentage in Algorithms                  20000 non-null  int64 \n",
            " 2   Percentage in Programming Concepts        20000 non-null  int64 \n",
            " 3   Percentage in Software Engineering        20000 non-null  int64 \n",
            " 4   Percentage in Computer Networks           20000 non-null  int64 \n",
            " 5   Percentage in Electronics Subjects        20000 non-null  int64 \n",
            " 6   Percentage in Computer Architecture       20000 non-null  int64 \n",
            " 7   Percentage in Mathematics                 20000 non-null  int64 \n",
            " 8   Percentage in Communication skills        20000 non-null  int64 \n",
            " 9   Hours working per day                     20000 non-null  int64 \n",
            " 10  Logical quotient rating                   20000 non-null  int64 \n",
            " 11  hackathons                                20000 non-null  int64 \n",
            " 12  coding skills rating                      20000 non-null  int64 \n",
            " 13  public speaking points                    20000 non-null  int64 \n",
            " 14  can work long time before system?         20000 non-null  object\n",
            " 15  self-learning capability?                 20000 non-null  object\n",
            " 16  Extra-courses did                         20000 non-null  object\n",
            " 17  certifications                            20000 non-null  object\n",
            " 18  workshops                                 20000 non-null  object\n",
            " 19  talenttests taken?                        20000 non-null  object\n",
            " 20  olympiads                                 20000 non-null  object\n",
            " 21  reading and writing skills                20000 non-null  object\n",
            " 22  memory capability score                   20000 non-null  object\n",
            " 23  Interested subjects                       20000 non-null  object\n",
            " 24  interested career area                    20000 non-null  object\n",
            " 25  Job/Higher Studies?                       20000 non-null  object\n",
            " 26  Type of company want to settle in?        20000 non-null  object\n",
            " 27  Taken inputs from seniors or elders       20000 non-null  object\n",
            " 28  interested in games                       20000 non-null  object\n",
            " 29  Interested Type of Books                  20000 non-null  object\n",
            " 30  In a Realtionship?                        20000 non-null  object\n",
            " 31  Gentle or Tuff behaviour?                 20000 non-null  object\n",
            " 32  Management or Technical                   20000 non-null  object\n",
            " 33  Salary/work                               20000 non-null  object\n",
            " 34  hard/smart worker                         20000 non-null  object\n",
            " 35  worked in teams ever?                     20000 non-null  object\n",
            " 36  Introvert                                 20000 non-null  object\n",
            " 37  Suggested Job Role                        20000 non-null  object\n",
            "dtypes: int64(14), object(24)\n",
            "memory usage: 5.8+ MB\n"
          ]
        }
      ],
      "source": [
        "df.info()"
      ]
    },
    {
      "cell_type": "markdown",
      "metadata": {
        "id": "mEeIN8K7HF6f"
      },
      "source": [
        "separated inputs and target."
      ]
    },
    {
      "cell_type": "code",
      "execution_count": 143,
      "metadata": {
        "id": "X7IZfRE8AxB3"
      },
      "outputs": [],
      "source": [
        "inputs = df.iloc[:,:37]"
      ]
    },
    {
      "cell_type": "code",
      "execution_count": 144,
      "metadata": {
        "colab": {
          "base_uri": "https://localhost:8080/",
          "height": 644
        },
        "id": "lrCiQf3HAxIR",
        "outputId": "adcf0abe-e2e6-4bec-90b5-4170db21f2db"
      },
      "outputs": [
        {
          "data": {
            "text/html": [
              "<div>\n",
              "<style scoped>\n",
              "    .dataframe tbody tr th:only-of-type {\n",
              "        vertical-align: middle;\n",
              "    }\n",
              "\n",
              "    .dataframe tbody tr th {\n",
              "        vertical-align: top;\n",
              "    }\n",
              "\n",
              "    .dataframe thead th {\n",
              "        text-align: right;\n",
              "    }\n",
              "</style>\n",
              "<table border=\"1\" class=\"dataframe\">\n",
              "  <thead>\n",
              "    <tr style=\"text-align: right;\">\n",
              "      <th></th>\n",
              "      <th>Acedamic percentage in Operating Systems</th>\n",
              "      <th>percentage in Algorithms</th>\n",
              "      <th>Percentage in Programming Concepts</th>\n",
              "      <th>Percentage in Software Engineering</th>\n",
              "      <th>Percentage in Computer Networks</th>\n",
              "      <th>Percentage in Electronics Subjects</th>\n",
              "      <th>Percentage in Computer Architecture</th>\n",
              "      <th>Percentage in Mathematics</th>\n",
              "      <th>Percentage in Communication skills</th>\n",
              "      <th>Hours working per day</th>\n",
              "      <th>...</th>\n",
              "      <th>Taken inputs from seniors or elders</th>\n",
              "      <th>interested in games</th>\n",
              "      <th>Interested Type of Books</th>\n",
              "      <th>In a Realtionship?</th>\n",
              "      <th>Gentle or Tuff behaviour?</th>\n",
              "      <th>Management or Technical</th>\n",
              "      <th>Salary/work</th>\n",
              "      <th>hard/smart worker</th>\n",
              "      <th>worked in teams ever?</th>\n",
              "      <th>Introvert</th>\n",
              "    </tr>\n",
              "  </thead>\n",
              "  <tbody>\n",
              "    <tr>\n",
              "      <th>0</th>\n",
              "      <td>69</td>\n",
              "      <td>63</td>\n",
              "      <td>78</td>\n",
              "      <td>87</td>\n",
              "      <td>94</td>\n",
              "      <td>94</td>\n",
              "      <td>87</td>\n",
              "      <td>84</td>\n",
              "      <td>61</td>\n",
              "      <td>9</td>\n",
              "      <td>...</td>\n",
              "      <td>no</td>\n",
              "      <td>no</td>\n",
              "      <td>Prayer books</td>\n",
              "      <td>no</td>\n",
              "      <td>stubborn</td>\n",
              "      <td>Management</td>\n",
              "      <td>salary</td>\n",
              "      <td>hard worker</td>\n",
              "      <td>yes</td>\n",
              "      <td>no</td>\n",
              "    </tr>\n",
              "    <tr>\n",
              "      <th>1</th>\n",
              "      <td>78</td>\n",
              "      <td>62</td>\n",
              "      <td>73</td>\n",
              "      <td>60</td>\n",
              "      <td>71</td>\n",
              "      <td>70</td>\n",
              "      <td>73</td>\n",
              "      <td>84</td>\n",
              "      <td>91</td>\n",
              "      <td>12</td>\n",
              "      <td>...</td>\n",
              "      <td>yes</td>\n",
              "      <td>yes</td>\n",
              "      <td>Childrens</td>\n",
              "      <td>yes</td>\n",
              "      <td>gentle</td>\n",
              "      <td>Technical</td>\n",
              "      <td>salary</td>\n",
              "      <td>hard worker</td>\n",
              "      <td>no</td>\n",
              "      <td>yes</td>\n",
              "    </tr>\n",
              "    <tr>\n",
              "      <th>2</th>\n",
              "      <td>71</td>\n",
              "      <td>86</td>\n",
              "      <td>91</td>\n",
              "      <td>87</td>\n",
              "      <td>61</td>\n",
              "      <td>81</td>\n",
              "      <td>72</td>\n",
              "      <td>72</td>\n",
              "      <td>94</td>\n",
              "      <td>11</td>\n",
              "      <td>...</td>\n",
              "      <td>yes</td>\n",
              "      <td>yes</td>\n",
              "      <td>Travel</td>\n",
              "      <td>no</td>\n",
              "      <td>stubborn</td>\n",
              "      <td>Management</td>\n",
              "      <td>work</td>\n",
              "      <td>hard worker</td>\n",
              "      <td>no</td>\n",
              "      <td>yes</td>\n",
              "    </tr>\n",
              "    <tr>\n",
              "      <th>3</th>\n",
              "      <td>76</td>\n",
              "      <td>87</td>\n",
              "      <td>60</td>\n",
              "      <td>84</td>\n",
              "      <td>89</td>\n",
              "      <td>73</td>\n",
              "      <td>62</td>\n",
              "      <td>88</td>\n",
              "      <td>69</td>\n",
              "      <td>7</td>\n",
              "      <td>...</td>\n",
              "      <td>no</td>\n",
              "      <td>no</td>\n",
              "      <td>Romance</td>\n",
              "      <td>yes</td>\n",
              "      <td>gentle</td>\n",
              "      <td>Management</td>\n",
              "      <td>work</td>\n",
              "      <td>smart worker</td>\n",
              "      <td>yes</td>\n",
              "      <td>yes</td>\n",
              "    </tr>\n",
              "    <tr>\n",
              "      <th>4</th>\n",
              "      <td>92</td>\n",
              "      <td>62</td>\n",
              "      <td>90</td>\n",
              "      <td>67</td>\n",
              "      <td>71</td>\n",
              "      <td>89</td>\n",
              "      <td>73</td>\n",
              "      <td>71</td>\n",
              "      <td>73</td>\n",
              "      <td>4</td>\n",
              "      <td>...</td>\n",
              "      <td>no</td>\n",
              "      <td>yes</td>\n",
              "      <td>Cookbooks</td>\n",
              "      <td>no</td>\n",
              "      <td>stubborn</td>\n",
              "      <td>Management</td>\n",
              "      <td>work</td>\n",
              "      <td>hard worker</td>\n",
              "      <td>yes</td>\n",
              "      <td>yes</td>\n",
              "    </tr>\n",
              "    <tr>\n",
              "      <th>...</th>\n",
              "      <td>...</td>\n",
              "      <td>...</td>\n",
              "      <td>...</td>\n",
              "      <td>...</td>\n",
              "      <td>...</td>\n",
              "      <td>...</td>\n",
              "      <td>...</td>\n",
              "      <td>...</td>\n",
              "      <td>...</td>\n",
              "      <td>...</td>\n",
              "      <td>...</td>\n",
              "      <td>...</td>\n",
              "      <td>...</td>\n",
              "      <td>...</td>\n",
              "      <td>...</td>\n",
              "      <td>...</td>\n",
              "      <td>...</td>\n",
              "      <td>...</td>\n",
              "      <td>...</td>\n",
              "      <td>...</td>\n",
              "      <td>...</td>\n",
              "    </tr>\n",
              "    <tr>\n",
              "      <th>19995</th>\n",
              "      <td>83</td>\n",
              "      <td>67</td>\n",
              "      <td>62</td>\n",
              "      <td>63</td>\n",
              "      <td>81</td>\n",
              "      <td>74</td>\n",
              "      <td>90</td>\n",
              "      <td>84</td>\n",
              "      <td>69</td>\n",
              "      <td>4</td>\n",
              "      <td>...</td>\n",
              "      <td>no</td>\n",
              "      <td>yes</td>\n",
              "      <td>Journals</td>\n",
              "      <td>yes</td>\n",
              "      <td>stubborn</td>\n",
              "      <td>Management</td>\n",
              "      <td>salary</td>\n",
              "      <td>smart worker</td>\n",
              "      <td>yes</td>\n",
              "      <td>no</td>\n",
              "    </tr>\n",
              "    <tr>\n",
              "      <th>19996</th>\n",
              "      <td>80</td>\n",
              "      <td>69</td>\n",
              "      <td>83</td>\n",
              "      <td>87</td>\n",
              "      <td>82</td>\n",
              "      <td>66</td>\n",
              "      <td>66</td>\n",
              "      <td>92</td>\n",
              "      <td>67</td>\n",
              "      <td>7</td>\n",
              "      <td>...</td>\n",
              "      <td>yes</td>\n",
              "      <td>yes</td>\n",
              "      <td>Cookbooks</td>\n",
              "      <td>no</td>\n",
              "      <td>stubborn</td>\n",
              "      <td>Management</td>\n",
              "      <td>salary</td>\n",
              "      <td>hard worker</td>\n",
              "      <td>no</td>\n",
              "      <td>yes</td>\n",
              "    </tr>\n",
              "    <tr>\n",
              "      <th>19997</th>\n",
              "      <td>83</td>\n",
              "      <td>70</td>\n",
              "      <td>80</td>\n",
              "      <td>87</td>\n",
              "      <td>64</td>\n",
              "      <td>85</td>\n",
              "      <td>69</td>\n",
              "      <td>94</td>\n",
              "      <td>88</td>\n",
              "      <td>7</td>\n",
              "      <td>...</td>\n",
              "      <td>yes</td>\n",
              "      <td>yes</td>\n",
              "      <td>Drama</td>\n",
              "      <td>yes</td>\n",
              "      <td>gentle</td>\n",
              "      <td>Technical</td>\n",
              "      <td>work</td>\n",
              "      <td>hard worker</td>\n",
              "      <td>no</td>\n",
              "      <td>yes</td>\n",
              "    </tr>\n",
              "    <tr>\n",
              "      <th>19998</th>\n",
              "      <td>68</td>\n",
              "      <td>87</td>\n",
              "      <td>91</td>\n",
              "      <td>88</td>\n",
              "      <td>66</td>\n",
              "      <td>74</td>\n",
              "      <td>61</td>\n",
              "      <td>87</td>\n",
              "      <td>61</td>\n",
              "      <td>5</td>\n",
              "      <td>...</td>\n",
              "      <td>yes</td>\n",
              "      <td>no</td>\n",
              "      <td>Travel</td>\n",
              "      <td>no</td>\n",
              "      <td>gentle</td>\n",
              "      <td>Management</td>\n",
              "      <td>work</td>\n",
              "      <td>smart worker</td>\n",
              "      <td>yes</td>\n",
              "      <td>no</td>\n",
              "    </tr>\n",
              "    <tr>\n",
              "      <th>19999</th>\n",
              "      <td>73</td>\n",
              "      <td>77</td>\n",
              "      <td>74</td>\n",
              "      <td>84</td>\n",
              "      <td>70</td>\n",
              "      <td>65</td>\n",
              "      <td>92</td>\n",
              "      <td>73</td>\n",
              "      <td>90</td>\n",
              "      <td>7</td>\n",
              "      <td>...</td>\n",
              "      <td>yes</td>\n",
              "      <td>no</td>\n",
              "      <td>Comics</td>\n",
              "      <td>no</td>\n",
              "      <td>gentle</td>\n",
              "      <td>Management</td>\n",
              "      <td>work</td>\n",
              "      <td>hard worker</td>\n",
              "      <td>yes</td>\n",
              "      <td>no</td>\n",
              "    </tr>\n",
              "  </tbody>\n",
              "</table>\n",
              "<p>20000 rows × 37 columns</p>\n",
              "</div>"
            ],
            "text/plain": [
              "       Acedamic percentage in Operating Systems  percentage in Algorithms  \\\n",
              "0                                            69                        63   \n",
              "1                                            78                        62   \n",
              "2                                            71                        86   \n",
              "3                                            76                        87   \n",
              "4                                            92                        62   \n",
              "...                                         ...                       ...   \n",
              "19995                                        83                        67   \n",
              "19996                                        80                        69   \n",
              "19997                                        83                        70   \n",
              "19998                                        68                        87   \n",
              "19999                                        73                        77   \n",
              "\n",
              "       Percentage in Programming Concepts  Percentage in Software Engineering  \\\n",
              "0                                      78                                  87   \n",
              "1                                      73                                  60   \n",
              "2                                      91                                  87   \n",
              "3                                      60                                  84   \n",
              "4                                      90                                  67   \n",
              "...                                   ...                                 ...   \n",
              "19995                                  62                                  63   \n",
              "19996                                  83                                  87   \n",
              "19997                                  80                                  87   \n",
              "19998                                  91                                  88   \n",
              "19999                                  74                                  84   \n",
              "\n",
              "       Percentage in Computer Networks  Percentage in Electronics Subjects  \\\n",
              "0                                   94                                  94   \n",
              "1                                   71                                  70   \n",
              "2                                   61                                  81   \n",
              "3                                   89                                  73   \n",
              "4                                   71                                  89   \n",
              "...                                ...                                 ...   \n",
              "19995                               81                                  74   \n",
              "19996                               82                                  66   \n",
              "19997                               64                                  85   \n",
              "19998                               66                                  74   \n",
              "19999                               70                                  65   \n",
              "\n",
              "       Percentage in Computer Architecture  Percentage in Mathematics  \\\n",
              "0                                       87                         84   \n",
              "1                                       73                         84   \n",
              "2                                       72                         72   \n",
              "3                                       62                         88   \n",
              "4                                       73                         71   \n",
              "...                                    ...                        ...   \n",
              "19995                                   90                         84   \n",
              "19996                                   66                         92   \n",
              "19997                                   69                         94   \n",
              "19998                                   61                         87   \n",
              "19999                                   92                         73   \n",
              "\n",
              "       Percentage in Communication skills  Hours working per day  ...  \\\n",
              "0                                      61                      9  ...   \n",
              "1                                      91                     12  ...   \n",
              "2                                      94                     11  ...   \n",
              "3                                      69                      7  ...   \n",
              "4                                      73                      4  ...   \n",
              "...                                   ...                    ...  ...   \n",
              "19995                                  69                      4  ...   \n",
              "19996                                  67                      7  ...   \n",
              "19997                                  88                      7  ...   \n",
              "19998                                  61                      5  ...   \n",
              "19999                                  90                      7  ...   \n",
              "\n",
              "       Taken inputs from seniors or elders  interested in games  \\\n",
              "0                                       no                   no   \n",
              "1                                      yes                  yes   \n",
              "2                                      yes                  yes   \n",
              "3                                       no                   no   \n",
              "4                                       no                  yes   \n",
              "...                                    ...                  ...   \n",
              "19995                                   no                  yes   \n",
              "19996                                  yes                  yes   \n",
              "19997                                  yes                  yes   \n",
              "19998                                  yes                   no   \n",
              "19999                                  yes                   no   \n",
              "\n",
              "       Interested Type of Books  In a Realtionship? Gentle or Tuff behaviour?  \\\n",
              "0                  Prayer books                  no                  stubborn   \n",
              "1                     Childrens                 yes                    gentle   \n",
              "2                        Travel                  no                  stubborn   \n",
              "3                       Romance                 yes                    gentle   \n",
              "4                     Cookbooks                  no                  stubborn   \n",
              "...                         ...                 ...                       ...   \n",
              "19995                  Journals                 yes                  stubborn   \n",
              "19996                 Cookbooks                  no                  stubborn   \n",
              "19997                     Drama                 yes                    gentle   \n",
              "19998                    Travel                  no                    gentle   \n",
              "19999                    Comics                  no                    gentle   \n",
              "\n",
              "      Management or Technical Salary/work hard/smart worker  \\\n",
              "0                  Management      salary       hard worker   \n",
              "1                   Technical      salary       hard worker   \n",
              "2                  Management        work       hard worker   \n",
              "3                  Management        work      smart worker   \n",
              "4                  Management        work       hard worker   \n",
              "...                       ...         ...               ...   \n",
              "19995              Management      salary      smart worker   \n",
              "19996              Management      salary       hard worker   \n",
              "19997               Technical        work       hard worker   \n",
              "19998              Management        work      smart worker   \n",
              "19999              Management        work       hard worker   \n",
              "\n",
              "      worked in teams ever? Introvert  \n",
              "0                       yes        no  \n",
              "1                        no       yes  \n",
              "2                        no       yes  \n",
              "3                       yes       yes  \n",
              "4                       yes       yes  \n",
              "...                     ...       ...  \n",
              "19995                   yes        no  \n",
              "19996                    no       yes  \n",
              "19997                    no       yes  \n",
              "19998                   yes        no  \n",
              "19999                   yes        no  \n",
              "\n",
              "[20000 rows x 37 columns]"
            ]
          },
          "execution_count": 144,
          "metadata": {},
          "output_type": "execute_result"
        }
      ],
      "source": [
        "inputs"
      ]
    },
    {
      "cell_type": "code",
      "execution_count": 145,
      "metadata": {
        "id": "kTy46K7jJgzH"
      },
      "outputs": [],
      "source": [
        "for col in inputs.select_dtypes(include=['object']).columns:\n",
        "  inputs[col]=inputs[col].astype('category')\n",
        "  inputs[col]=inputs[col].cat.codes"
      ]
    },
    {
      "cell_type": "code",
      "execution_count": 146,
      "metadata": {
        "colab": {
          "base_uri": "https://localhost:8080/",
          "height": 574
        },
        "id": "1x1GoBDJJgnW",
        "outputId": "17a44827-35f6-4d84-bd42-2ec1863e2e8f"
      },
      "outputs": [
        {
          "data": {
            "text/html": [
              "<div>\n",
              "<style scoped>\n",
              "    .dataframe tbody tr th:only-of-type {\n",
              "        vertical-align: middle;\n",
              "    }\n",
              "\n",
              "    .dataframe tbody tr th {\n",
              "        vertical-align: top;\n",
              "    }\n",
              "\n",
              "    .dataframe thead th {\n",
              "        text-align: right;\n",
              "    }\n",
              "</style>\n",
              "<table border=\"1\" class=\"dataframe\">\n",
              "  <thead>\n",
              "    <tr style=\"text-align: right;\">\n",
              "      <th></th>\n",
              "      <th>Acedamic percentage in Operating Systems</th>\n",
              "      <th>percentage in Algorithms</th>\n",
              "      <th>Percentage in Programming Concepts</th>\n",
              "      <th>Percentage in Software Engineering</th>\n",
              "      <th>Percentage in Computer Networks</th>\n",
              "      <th>Percentage in Electronics Subjects</th>\n",
              "      <th>Percentage in Computer Architecture</th>\n",
              "      <th>Percentage in Mathematics</th>\n",
              "      <th>Percentage in Communication skills</th>\n",
              "      <th>Hours working per day</th>\n",
              "      <th>...</th>\n",
              "      <th>Taken inputs from seniors or elders</th>\n",
              "      <th>interested in games</th>\n",
              "      <th>Interested Type of Books</th>\n",
              "      <th>In a Realtionship?</th>\n",
              "      <th>Gentle or Tuff behaviour?</th>\n",
              "      <th>Management or Technical</th>\n",
              "      <th>Salary/work</th>\n",
              "      <th>hard/smart worker</th>\n",
              "      <th>worked in teams ever?</th>\n",
              "      <th>Introvert</th>\n",
              "    </tr>\n",
              "  </thead>\n",
              "  <tbody>\n",
              "    <tr>\n",
              "      <th>0</th>\n",
              "      <td>69</td>\n",
              "      <td>63</td>\n",
              "      <td>78</td>\n",
              "      <td>87</td>\n",
              "      <td>94</td>\n",
              "      <td>94</td>\n",
              "      <td>87</td>\n",
              "      <td>84</td>\n",
              "      <td>61</td>\n",
              "      <td>9</td>\n",
              "      <td>...</td>\n",
              "      <td>0</td>\n",
              "      <td>0</td>\n",
              "      <td>21</td>\n",
              "      <td>0</td>\n",
              "      <td>1</td>\n",
              "      <td>0</td>\n",
              "      <td>0</td>\n",
              "      <td>0</td>\n",
              "      <td>1</td>\n",
              "      <td>0</td>\n",
              "    </tr>\n",
              "    <tr>\n",
              "      <th>1</th>\n",
              "      <td>78</td>\n",
              "      <td>62</td>\n",
              "      <td>73</td>\n",
              "      <td>60</td>\n",
              "      <td>71</td>\n",
              "      <td>70</td>\n",
              "      <td>73</td>\n",
              "      <td>84</td>\n",
              "      <td>91</td>\n",
              "      <td>12</td>\n",
              "      <td>...</td>\n",
              "      <td>1</td>\n",
              "      <td>1</td>\n",
              "      <td>5</td>\n",
              "      <td>1</td>\n",
              "      <td>0</td>\n",
              "      <td>1</td>\n",
              "      <td>0</td>\n",
              "      <td>0</td>\n",
              "      <td>0</td>\n",
              "      <td>1</td>\n",
              "    </tr>\n",
              "    <tr>\n",
              "      <th>2</th>\n",
              "      <td>71</td>\n",
              "      <td>86</td>\n",
              "      <td>91</td>\n",
              "      <td>87</td>\n",
              "      <td>61</td>\n",
              "      <td>81</td>\n",
              "      <td>72</td>\n",
              "      <td>72</td>\n",
              "      <td>94</td>\n",
              "      <td>11</td>\n",
              "      <td>...</td>\n",
              "      <td>1</td>\n",
              "      <td>1</td>\n",
              "      <td>29</td>\n",
              "      <td>0</td>\n",
              "      <td>1</td>\n",
              "      <td>0</td>\n",
              "      <td>1</td>\n",
              "      <td>0</td>\n",
              "      <td>0</td>\n",
              "      <td>1</td>\n",
              "    </tr>\n",
              "    <tr>\n",
              "      <th>3</th>\n",
              "      <td>76</td>\n",
              "      <td>87</td>\n",
              "      <td>60</td>\n",
              "      <td>84</td>\n",
              "      <td>89</td>\n",
              "      <td>73</td>\n",
              "      <td>62</td>\n",
              "      <td>88</td>\n",
              "      <td>69</td>\n",
              "      <td>7</td>\n",
              "      <td>...</td>\n",
              "      <td>0</td>\n",
              "      <td>0</td>\n",
              "      <td>23</td>\n",
              "      <td>1</td>\n",
              "      <td>0</td>\n",
              "      <td>0</td>\n",
              "      <td>1</td>\n",
              "      <td>1</td>\n",
              "      <td>1</td>\n",
              "      <td>1</td>\n",
              "    </tr>\n",
              "    <tr>\n",
              "      <th>4</th>\n",
              "      <td>92</td>\n",
              "      <td>62</td>\n",
              "      <td>90</td>\n",
              "      <td>67</td>\n",
              "      <td>71</td>\n",
              "      <td>89</td>\n",
              "      <td>73</td>\n",
              "      <td>71</td>\n",
              "      <td>73</td>\n",
              "      <td>4</td>\n",
              "      <td>...</td>\n",
              "      <td>0</td>\n",
              "      <td>1</td>\n",
              "      <td>7</td>\n",
              "      <td>0</td>\n",
              "      <td>1</td>\n",
              "      <td>0</td>\n",
              "      <td>1</td>\n",
              "      <td>0</td>\n",
              "      <td>1</td>\n",
              "      <td>1</td>\n",
              "    </tr>\n",
              "    <tr>\n",
              "      <th>...</th>\n",
              "      <td>...</td>\n",
              "      <td>...</td>\n",
              "      <td>...</td>\n",
              "      <td>...</td>\n",
              "      <td>...</td>\n",
              "      <td>...</td>\n",
              "      <td>...</td>\n",
              "      <td>...</td>\n",
              "      <td>...</td>\n",
              "      <td>...</td>\n",
              "      <td>...</td>\n",
              "      <td>...</td>\n",
              "      <td>...</td>\n",
              "      <td>...</td>\n",
              "      <td>...</td>\n",
              "      <td>...</td>\n",
              "      <td>...</td>\n",
              "      <td>...</td>\n",
              "      <td>...</td>\n",
              "      <td>...</td>\n",
              "      <td>...</td>\n",
              "    </tr>\n",
              "    <tr>\n",
              "      <th>19995</th>\n",
              "      <td>83</td>\n",
              "      <td>67</td>\n",
              "      <td>62</td>\n",
              "      <td>63</td>\n",
              "      <td>81</td>\n",
              "      <td>74</td>\n",
              "      <td>90</td>\n",
              "      <td>84</td>\n",
              "      <td>69</td>\n",
              "      <td>4</td>\n",
              "      <td>...</td>\n",
              "      <td>0</td>\n",
              "      <td>1</td>\n",
              "      <td>17</td>\n",
              "      <td>1</td>\n",
              "      <td>1</td>\n",
              "      <td>0</td>\n",
              "      <td>0</td>\n",
              "      <td>1</td>\n",
              "      <td>1</td>\n",
              "      <td>0</td>\n",
              "    </tr>\n",
              "    <tr>\n",
              "      <th>19996</th>\n",
              "      <td>80</td>\n",
              "      <td>69</td>\n",
              "      <td>83</td>\n",
              "      <td>87</td>\n",
              "      <td>82</td>\n",
              "      <td>66</td>\n",
              "      <td>66</td>\n",
              "      <td>92</td>\n",
              "      <td>67</td>\n",
              "      <td>7</td>\n",
              "      <td>...</td>\n",
              "      <td>1</td>\n",
              "      <td>1</td>\n",
              "      <td>7</td>\n",
              "      <td>0</td>\n",
              "      <td>1</td>\n",
              "      <td>0</td>\n",
              "      <td>0</td>\n",
              "      <td>0</td>\n",
              "      <td>0</td>\n",
              "      <td>1</td>\n",
              "    </tr>\n",
              "    <tr>\n",
              "      <th>19997</th>\n",
              "      <td>83</td>\n",
              "      <td>70</td>\n",
              "      <td>80</td>\n",
              "      <td>87</td>\n",
              "      <td>64</td>\n",
              "      <td>85</td>\n",
              "      <td>69</td>\n",
              "      <td>94</td>\n",
              "      <td>88</td>\n",
              "      <td>7</td>\n",
              "      <td>...</td>\n",
              "      <td>1</td>\n",
              "      <td>1</td>\n",
              "      <td>10</td>\n",
              "      <td>1</td>\n",
              "      <td>0</td>\n",
              "      <td>1</td>\n",
              "      <td>1</td>\n",
              "      <td>0</td>\n",
              "      <td>0</td>\n",
              "      <td>1</td>\n",
              "    </tr>\n",
              "    <tr>\n",
              "      <th>19998</th>\n",
              "      <td>68</td>\n",
              "      <td>87</td>\n",
              "      <td>91</td>\n",
              "      <td>88</td>\n",
              "      <td>66</td>\n",
              "      <td>74</td>\n",
              "      <td>61</td>\n",
              "      <td>87</td>\n",
              "      <td>61</td>\n",
              "      <td>5</td>\n",
              "      <td>...</td>\n",
              "      <td>1</td>\n",
              "      <td>0</td>\n",
              "      <td>29</td>\n",
              "      <td>0</td>\n",
              "      <td>0</td>\n",
              "      <td>0</td>\n",
              "      <td>1</td>\n",
              "      <td>1</td>\n",
              "      <td>1</td>\n",
              "      <td>0</td>\n",
              "    </tr>\n",
              "    <tr>\n",
              "      <th>19999</th>\n",
              "      <td>73</td>\n",
              "      <td>77</td>\n",
              "      <td>74</td>\n",
              "      <td>84</td>\n",
              "      <td>70</td>\n",
              "      <td>65</td>\n",
              "      <td>92</td>\n",
              "      <td>73</td>\n",
              "      <td>90</td>\n",
              "      <td>7</td>\n",
              "      <td>...</td>\n",
              "      <td>1</td>\n",
              "      <td>0</td>\n",
              "      <td>6</td>\n",
              "      <td>0</td>\n",
              "      <td>0</td>\n",
              "      <td>0</td>\n",
              "      <td>1</td>\n",
              "      <td>0</td>\n",
              "      <td>1</td>\n",
              "      <td>0</td>\n",
              "    </tr>\n",
              "  </tbody>\n",
              "</table>\n",
              "<p>20000 rows × 37 columns</p>\n",
              "</div>"
            ],
            "text/plain": [
              "       Acedamic percentage in Operating Systems  percentage in Algorithms  \\\n",
              "0                                            69                        63   \n",
              "1                                            78                        62   \n",
              "2                                            71                        86   \n",
              "3                                            76                        87   \n",
              "4                                            92                        62   \n",
              "...                                         ...                       ...   \n",
              "19995                                        83                        67   \n",
              "19996                                        80                        69   \n",
              "19997                                        83                        70   \n",
              "19998                                        68                        87   \n",
              "19999                                        73                        77   \n",
              "\n",
              "       Percentage in Programming Concepts  Percentage in Software Engineering  \\\n",
              "0                                      78                                  87   \n",
              "1                                      73                                  60   \n",
              "2                                      91                                  87   \n",
              "3                                      60                                  84   \n",
              "4                                      90                                  67   \n",
              "...                                   ...                                 ...   \n",
              "19995                                  62                                  63   \n",
              "19996                                  83                                  87   \n",
              "19997                                  80                                  87   \n",
              "19998                                  91                                  88   \n",
              "19999                                  74                                  84   \n",
              "\n",
              "       Percentage in Computer Networks  Percentage in Electronics Subjects  \\\n",
              "0                                   94                                  94   \n",
              "1                                   71                                  70   \n",
              "2                                   61                                  81   \n",
              "3                                   89                                  73   \n",
              "4                                   71                                  89   \n",
              "...                                ...                                 ...   \n",
              "19995                               81                                  74   \n",
              "19996                               82                                  66   \n",
              "19997                               64                                  85   \n",
              "19998                               66                                  74   \n",
              "19999                               70                                  65   \n",
              "\n",
              "       Percentage in Computer Architecture  Percentage in Mathematics  \\\n",
              "0                                       87                         84   \n",
              "1                                       73                         84   \n",
              "2                                       72                         72   \n",
              "3                                       62                         88   \n",
              "4                                       73                         71   \n",
              "...                                    ...                        ...   \n",
              "19995                                   90                         84   \n",
              "19996                                   66                         92   \n",
              "19997                                   69                         94   \n",
              "19998                                   61                         87   \n",
              "19999                                   92                         73   \n",
              "\n",
              "       Percentage in Communication skills  Hours working per day  ...  \\\n",
              "0                                      61                      9  ...   \n",
              "1                                      91                     12  ...   \n",
              "2                                      94                     11  ...   \n",
              "3                                      69                      7  ...   \n",
              "4                                      73                      4  ...   \n",
              "...                                   ...                    ...  ...   \n",
              "19995                                  69                      4  ...   \n",
              "19996                                  67                      7  ...   \n",
              "19997                                  88                      7  ...   \n",
              "19998                                  61                      5  ...   \n",
              "19999                                  90                      7  ...   \n",
              "\n",
              "       Taken inputs from seniors or elders  interested in games  \\\n",
              "0                                        0                    0   \n",
              "1                                        1                    1   \n",
              "2                                        1                    1   \n",
              "3                                        0                    0   \n",
              "4                                        0                    1   \n",
              "...                                    ...                  ...   \n",
              "19995                                    0                    1   \n",
              "19996                                    1                    1   \n",
              "19997                                    1                    1   \n",
              "19998                                    1                    0   \n",
              "19999                                    1                    0   \n",
              "\n",
              "       Interested Type of Books  In a Realtionship?  \\\n",
              "0                            21                   0   \n",
              "1                             5                   1   \n",
              "2                            29                   0   \n",
              "3                            23                   1   \n",
              "4                             7                   0   \n",
              "...                         ...                 ...   \n",
              "19995                        17                   1   \n",
              "19996                         7                   0   \n",
              "19997                        10                   1   \n",
              "19998                        29                   0   \n",
              "19999                         6                   0   \n",
              "\n",
              "       Gentle or Tuff behaviour?  Management or Technical  Salary/work  \\\n",
              "0                              1                        0            0   \n",
              "1                              0                        1            0   \n",
              "2                              1                        0            1   \n",
              "3                              0                        0            1   \n",
              "4                              1                        0            1   \n",
              "...                          ...                      ...          ...   \n",
              "19995                          1                        0            0   \n",
              "19996                          1                        0            0   \n",
              "19997                          0                        1            1   \n",
              "19998                          0                        0            1   \n",
              "19999                          0                        0            1   \n",
              "\n",
              "       hard/smart worker  worked in teams ever?  Introvert  \n",
              "0                      0                      1          0  \n",
              "1                      0                      0          1  \n",
              "2                      0                      0          1  \n",
              "3                      1                      1          1  \n",
              "4                      0                      1          1  \n",
              "...                  ...                    ...        ...  \n",
              "19995                  1                      1          0  \n",
              "19996                  0                      0          1  \n",
              "19997                  0                      0          1  \n",
              "19998                  1                      1          0  \n",
              "19999                  0                      1          0  \n",
              "\n",
              "[20000 rows x 37 columns]"
            ]
          },
          "execution_count": 146,
          "metadata": {},
          "output_type": "execute_result"
        }
      ],
      "source": [
        "inputs"
      ]
    },
    {
      "cell_type": "code",
      "execution_count": null,
      "metadata": {
        "id": "5YdsfS_CJgjz"
      },
      "outputs": [],
      "source": []
    },
    {
      "cell_type": "code",
      "execution_count": null,
      "metadata": {
        "id": "tHuhGulfJghi"
      },
      "outputs": [],
      "source": []
    },
    {
      "cell_type": "code",
      "execution_count": null,
      "metadata": {
        "id": "9Nk21bKIHzoH"
      },
      "outputs": [],
      "source": []
    },
    {
      "cell_type": "code",
      "execution_count": 147,
      "metadata": {
        "id": "eBi3aYmbAxLG"
      },
      "outputs": [],
      "source": [
        "targets = df.iloc[:,37:]"
      ]
    },
    {
      "cell_type": "code",
      "execution_count": 148,
      "metadata": {
        "colab": {
          "base_uri": "https://localhost:8080/"
        },
        "id": "q2It439JH0pE",
        "outputId": "bed2fa49-7d63-4ab8-bdfa-e654e523ad42"
      },
      "outputs": [
        {
          "name": "stdout",
          "output_type": "stream",
          "text": [
            "<class 'pandas.core.frame.DataFrame'>\n",
            "RangeIndex: 20000 entries, 0 to 19999\n",
            "Data columns (total 1 columns):\n",
            " #   Column              Non-Null Count  Dtype \n",
            "---  ------              --------------  ----- \n",
            " 0   Suggested Job Role  20000 non-null  object\n",
            "dtypes: object(1)\n",
            "memory usage: 156.4+ KB\n"
          ]
        }
      ],
      "source": [
        "targets.info()"
      ]
    },
    {
      "cell_type": "code",
      "execution_count": 149,
      "metadata": {
        "colab": {
          "base_uri": "https://localhost:8080/"
        },
        "id": "rfxMXrfhKqw3",
        "outputId": "1bd0bb81-0482-40f9-d1c3-26611959faa1"
      },
      "outputs": [
        {
          "data": {
            "text/plain": [
              "array(['Database Developer', 'Portal Administrator',\n",
              "       'Systems Security Administrator', 'Business Systems Analyst',\n",
              "       'Software Systems Engineer', 'Business Intelligence Analyst',\n",
              "       'CRM Technical Developer', 'Mobile Applications Developer',\n",
              "       'UX Designer', 'Quality Assurance Associate', 'Web Developer',\n",
              "       'Information Security Analyst', 'CRM Business Analyst',\n",
              "       'Technical Support', 'Project Manager',\n",
              "       'Information Technology Manager', 'Programmer Analyst',\n",
              "       'Design & UX', 'Solutions Architect', 'Systems Analyst',\n",
              "       'Network Security Administrator', 'Data Architect',\n",
              "       'Software Developer', 'E-Commerce Analyst',\n",
              "       'Technical Services/Help Desk/Tech Support',\n",
              "       'Information Technology Auditor', 'Database Manager',\n",
              "       'Applications Developer', 'Database Administrator',\n",
              "       'Network Engineer', 'Software Engineer', 'Technical Engineer',\n",
              "       'Network Security Engineer',\n",
              "       'Software Quality Assurance (QA) / Testing'], dtype=object)"
            ]
          },
          "execution_count": 149,
          "metadata": {},
          "output_type": "execute_result"
        }
      ],
      "source": [
        "targets['Suggested Job Role'].unique()"
      ]
    },
    {
      "cell_type": "code",
      "execution_count": null,
      "metadata": {
        "id": "PWcL9qyNKqrM"
      },
      "outputs": [],
      "source": []
    },
    {
      "cell_type": "code",
      "execution_count": 150,
      "metadata": {
        "id": "4zXC0IkkMeR1"
      },
      "outputs": [],
      "source": [
        "targets['job_n']=targets['Suggested Job Role'].astype('category')\n",
        "targets['job_n']=targets['job_n'].cat.codes"
      ]
    },
    {
      "cell_type": "code",
      "execution_count": 151,
      "metadata": {
        "id": "nzKOa1eFWmri"
      },
      "outputs": [],
      "source": [
        "job_n = targets['job_n'].unique()"
      ]
    },
    {
      "cell_type": "code",
      "execution_count": 152,
      "metadata": {
        "id": "yY4NxSlWW1Rt"
      },
      "outputs": [],
      "source": [
        "job_n.sort()"
      ]
    },
    {
      "cell_type": "code",
      "execution_count": 153,
      "metadata": {
        "colab": {
          "base_uri": "https://localhost:8080/"
        },
        "id": "IQ_k6-V3W4cn",
        "outputId": "f58d6e04-2e7c-4844-9e06-f657c65d982a"
      },
      "outputs": [
        {
          "data": {
            "text/plain": [
              "array([ 0,  1,  2,  3,  4,  5,  6,  7,  8,  9, 10, 11, 12, 13, 14, 15, 16,\n",
              "       17, 18, 19, 20, 21, 22, 23, 24, 25, 26, 27, 28, 29, 30, 31, 32, 33],\n",
              "      dtype=int8)"
            ]
          },
          "execution_count": 153,
          "metadata": {},
          "output_type": "execute_result"
        }
      ],
      "source": [
        "job_n"
      ]
    },
    {
      "cell_type": "code",
      "execution_count": 154,
      "metadata": {
        "colab": {
          "base_uri": "https://localhost:8080/"
        },
        "id": "-5vahxeyUxN5",
        "outputId": "c4c53cfa-2ce7-42b1-ec31-ebc4eda14d0e"
      },
      "outputs": [
        {
          "name": "stdout",
          "output_type": "stream",
          "text": [
            "1112\n"
          ]
        }
      ],
      "source": [
        "count =0\n",
        "for i in range(20000):\n",
        "  if targets['job_n'][i]==16:\n",
        "    #print(targets['Suggested Job Role'][i])\n",
        "    count= count+1\n",
        "print(count)"
      ]
    },
    {
      "cell_type": "code",
      "execution_count": 155,
      "metadata": {
        "colab": {
          "base_uri": "https://localhost:8080/",
          "height": 423
        },
        "id": "gBh6vDvOU9Km",
        "outputId": "ef645b44-ab00-42aa-c791-ca427a7871fa"
      },
      "outputs": [
        {
          "data": {
            "text/html": [
              "<div>\n",
              "<style scoped>\n",
              "    .dataframe tbody tr th:only-of-type {\n",
              "        vertical-align: middle;\n",
              "    }\n",
              "\n",
              "    .dataframe tbody tr th {\n",
              "        vertical-align: top;\n",
              "    }\n",
              "\n",
              "    .dataframe thead th {\n",
              "        text-align: right;\n",
              "    }\n",
              "</style>\n",
              "<table border=\"1\" class=\"dataframe\">\n",
              "  <thead>\n",
              "    <tr style=\"text-align: right;\">\n",
              "      <th></th>\n",
              "      <th>Suggested Job Role</th>\n",
              "      <th>job_n</th>\n",
              "    </tr>\n",
              "  </thead>\n",
              "  <tbody>\n",
              "    <tr>\n",
              "      <th>0</th>\n",
              "      <td>Database Developer</td>\n",
              "      <td>7</td>\n",
              "    </tr>\n",
              "    <tr>\n",
              "      <th>1</th>\n",
              "      <td>Portal Administrator</td>\n",
              "      <td>18</td>\n",
              "    </tr>\n",
              "    <tr>\n",
              "      <th>2</th>\n",
              "      <td>Portal Administrator</td>\n",
              "      <td>18</td>\n",
              "    </tr>\n",
              "    <tr>\n",
              "      <th>3</th>\n",
              "      <td>Systems Security Administrator</td>\n",
              "      <td>28</td>\n",
              "    </tr>\n",
              "    <tr>\n",
              "      <th>4</th>\n",
              "      <td>Business Systems Analyst</td>\n",
              "      <td>2</td>\n",
              "    </tr>\n",
              "    <tr>\n",
              "      <th>...</th>\n",
              "      <td>...</td>\n",
              "      <td>...</td>\n",
              "    </tr>\n",
              "    <tr>\n",
              "      <th>19995</th>\n",
              "      <td>Technical Engineer</td>\n",
              "      <td>29</td>\n",
              "    </tr>\n",
              "    <tr>\n",
              "      <th>19996</th>\n",
              "      <td>E-Commerce Analyst</td>\n",
              "      <td>10</td>\n",
              "    </tr>\n",
              "    <tr>\n",
              "      <th>19997</th>\n",
              "      <td>Business Intelligence Analyst</td>\n",
              "      <td>1</td>\n",
              "    </tr>\n",
              "    <tr>\n",
              "      <th>19998</th>\n",
              "      <td>Software Quality Assurance (QA) / Testing</td>\n",
              "      <td>24</td>\n",
              "    </tr>\n",
              "    <tr>\n",
              "      <th>19999</th>\n",
              "      <td>Applications Developer</td>\n",
              "      <td>0</td>\n",
              "    </tr>\n",
              "  </tbody>\n",
              "</table>\n",
              "<p>20000 rows × 2 columns</p>\n",
              "</div>"
            ],
            "text/plain": [
              "                              Suggested Job Role  job_n\n",
              "0                             Database Developer      7\n",
              "1                           Portal Administrator     18\n",
              "2                           Portal Administrator     18\n",
              "3                 Systems Security Administrator     28\n",
              "4                       Business Systems Analyst      2\n",
              "...                                          ...    ...\n",
              "19995                         Technical Engineer     29\n",
              "19996                         E-Commerce Analyst     10\n",
              "19997              Business Intelligence Analyst      1\n",
              "19998  Software Quality Assurance (QA) / Testing     24\n",
              "19999                     Applications Developer      0\n",
              "\n",
              "[20000 rows x 2 columns]"
            ]
          },
          "execution_count": 155,
          "metadata": {},
          "output_type": "execute_result"
        }
      ],
      "source": [
        "targets"
      ]
    },
    {
      "cell_type": "code",
      "execution_count": 156,
      "metadata": {
        "colab": {
          "base_uri": "https://localhost:8080/"
        },
        "id": "jzCoaudIMfn-",
        "outputId": "7365866a-02f7-486e-bd62-ab0cfbfb5c42"
      },
      "outputs": [
        {
          "name": "stdout",
          "output_type": "stream",
          "text": [
            "<class 'pandas.core.frame.DataFrame'>\n",
            "RangeIndex: 20000 entries, 0 to 19999\n",
            "Data columns (total 2 columns):\n",
            " #   Column              Non-Null Count  Dtype \n",
            "---  ------              --------------  ----- \n",
            " 0   Suggested Job Role  20000 non-null  object\n",
            " 1   job_n               20000 non-null  int8  \n",
            "dtypes: int8(1), object(1)\n",
            "memory usage: 175.9+ KB\n"
          ]
        }
      ],
      "source": [
        "targets.info()"
      ]
    },
    {
      "cell_type": "markdown",
      "metadata": {
        "id": "_YiflgSkLyIW"
      },
      "source": [
        "# **Data Modelling**"
      ]
    },
    {
      "cell_type": "markdown",
      "metadata": {
        "id": "i2n8VojPL3iR"
      },
      "source": [
        "split the model using train test split"
      ]
    },
    {
      "cell_type": "code",
      "execution_count": 157,
      "metadata": {
        "id": "s9IC28OXIgzL"
      },
      "outputs": [],
      "source": [
        "x = inputs"
      ]
    },
    {
      "cell_type": "code",
      "execution_count": 158,
      "metadata": {
        "id": "iMpHOWh5IhAL"
      },
      "outputs": [],
      "source": [
        "y = targets['job_n']"
      ]
    },
    {
      "cell_type": "code",
      "execution_count": 159,
      "metadata": {
        "id": "WLg53VidIjOu"
      },
      "outputs": [],
      "source": [
        "from sklearn.model_selection import train_test_split"
      ]
    },
    {
      "cell_type": "code",
      "execution_count": 160,
      "metadata": {
        "id": "IAG6ELuoIjLM"
      },
      "outputs": [],
      "source": [
        "x_train, x_test, y_train, y_test = train_test_split(\n",
        "    x, y, test_size=0.95, random_state=42)"
      ]
    },
    {
      "cell_type": "markdown",
      "metadata": {
        "id": "e_SCE32T1Ee7"
      },
      "source": [
        "# **Logistic Regression (Multiclass)**"
      ]
    },
    {
      "cell_type": "code",
      "execution_count": null,
      "metadata": {
        "id": "DT4zkeE61EJY"
      },
      "outputs": [],
      "source": []
    },
    {
      "cell_type": "code",
      "execution_count": 161,
      "metadata": {
        "id": "7Xrr47kw1Ovc"
      },
      "outputs": [],
      "source": [
        "#import logistic regression"
      ]
    },
    {
      "cell_type": "code",
      "execution_count": 162,
      "metadata": {
        "id": "qwnHKm1e1Os0"
      },
      "outputs": [],
      "source": [
        "from sklearn.linear_model import LogisticRegression"
      ]
    },
    {
      "cell_type": "code",
      "execution_count": 163,
      "metadata": {
        "id": "53_9VK7q1OqM"
      },
      "outputs": [],
      "source": [
        "#fit Logistic "
      ]
    },
    {
      "cell_type": "code",
      "execution_count": 164,
      "metadata": {
        "id": "CZOxKHjp1Ons"
      },
      "outputs": [],
      "source": [
        "model = LogisticRegression()"
      ]
    },
    {
      "cell_type": "code",
      "execution_count": 165,
      "metadata": {
        "colab": {
          "base_uri": "https://localhost:8080/"
        },
        "id": "8Xa800Tp1OlW",
        "outputId": "4fe6d4a7-c6fe-4e32-d398-4b17494c6b04"
      },
      "outputs": [
        {
          "name": "stderr",
          "output_type": "stream",
          "text": [
            "c:\\Users\\curio\\AppData\\Local\\Programs\\Python\\Python310\\lib\\site-packages\\sklearn\\linear_model\\_logistic.py:444: ConvergenceWarning: lbfgs failed to converge (status=1):\n",
            "STOP: TOTAL NO. of ITERATIONS REACHED LIMIT.\n",
            "\n",
            "Increase the number of iterations (max_iter) or scale the data as shown in:\n",
            "    https://scikit-learn.org/stable/modules/preprocessing.html\n",
            "Please also refer to the documentation for alternative solver options:\n",
            "    https://scikit-learn.org/stable/modules/linear_model.html#logistic-regression\n",
            "  n_iter_i = _check_optimize_result(\n"
          ]
        },
        {
          "data": {
            "text/html": [
              "<style>#sk-container-id-7 {color: black;background-color: white;}#sk-container-id-7 pre{padding: 0;}#sk-container-id-7 div.sk-toggleable {background-color: white;}#sk-container-id-7 label.sk-toggleable__label {cursor: pointer;display: block;width: 100%;margin-bottom: 0;padding: 0.3em;box-sizing: border-box;text-align: center;}#sk-container-id-7 label.sk-toggleable__label-arrow:before {content: \"▸\";float: left;margin-right: 0.25em;color: #696969;}#sk-container-id-7 label.sk-toggleable__label-arrow:hover:before {color: black;}#sk-container-id-7 div.sk-estimator:hover label.sk-toggleable__label-arrow:before {color: black;}#sk-container-id-7 div.sk-toggleable__content {max-height: 0;max-width: 0;overflow: hidden;text-align: left;background-color: #f0f8ff;}#sk-container-id-7 div.sk-toggleable__content pre {margin: 0.2em;color: black;border-radius: 0.25em;background-color: #f0f8ff;}#sk-container-id-7 input.sk-toggleable__control:checked~div.sk-toggleable__content {max-height: 200px;max-width: 100%;overflow: auto;}#sk-container-id-7 input.sk-toggleable__control:checked~label.sk-toggleable__label-arrow:before {content: \"▾\";}#sk-container-id-7 div.sk-estimator input.sk-toggleable__control:checked~label.sk-toggleable__label {background-color: #d4ebff;}#sk-container-id-7 div.sk-label input.sk-toggleable__control:checked~label.sk-toggleable__label {background-color: #d4ebff;}#sk-container-id-7 input.sk-hidden--visually {border: 0;clip: rect(1px 1px 1px 1px);clip: rect(1px, 1px, 1px, 1px);height: 1px;margin: -1px;overflow: hidden;padding: 0;position: absolute;width: 1px;}#sk-container-id-7 div.sk-estimator {font-family: monospace;background-color: #f0f8ff;border: 1px dotted black;border-radius: 0.25em;box-sizing: border-box;margin-bottom: 0.5em;}#sk-container-id-7 div.sk-estimator:hover {background-color: #d4ebff;}#sk-container-id-7 div.sk-parallel-item::after {content: \"\";width: 100%;border-bottom: 1px solid gray;flex-grow: 1;}#sk-container-id-7 div.sk-label:hover label.sk-toggleable__label {background-color: #d4ebff;}#sk-container-id-7 div.sk-serial::before {content: \"\";position: absolute;border-left: 1px solid gray;box-sizing: border-box;top: 0;bottom: 0;left: 50%;z-index: 0;}#sk-container-id-7 div.sk-serial {display: flex;flex-direction: column;align-items: center;background-color: white;padding-right: 0.2em;padding-left: 0.2em;position: relative;}#sk-container-id-7 div.sk-item {position: relative;z-index: 1;}#sk-container-id-7 div.sk-parallel {display: flex;align-items: stretch;justify-content: center;background-color: white;position: relative;}#sk-container-id-7 div.sk-item::before, #sk-container-id-7 div.sk-parallel-item::before {content: \"\";position: absolute;border-left: 1px solid gray;box-sizing: border-box;top: 0;bottom: 0;left: 50%;z-index: -1;}#sk-container-id-7 div.sk-parallel-item {display: flex;flex-direction: column;z-index: 1;position: relative;background-color: white;}#sk-container-id-7 div.sk-parallel-item:first-child::after {align-self: flex-end;width: 50%;}#sk-container-id-7 div.sk-parallel-item:last-child::after {align-self: flex-start;width: 50%;}#sk-container-id-7 div.sk-parallel-item:only-child::after {width: 0;}#sk-container-id-7 div.sk-dashed-wrapped {border: 1px dashed gray;margin: 0 0.4em 0.5em 0.4em;box-sizing: border-box;padding-bottom: 0.4em;background-color: white;}#sk-container-id-7 div.sk-label label {font-family: monospace;font-weight: bold;display: inline-block;line-height: 1.2em;}#sk-container-id-7 div.sk-label-container {text-align: center;}#sk-container-id-7 div.sk-container {/* jupyter's `normalize.less` sets `[hidden] { display: none; }` but bootstrap.min.css set `[hidden] { display: none !important; }` so we also need the `!important` here to be able to override the default hidden behavior on the sphinx rendered scikit-learn.org. See: https://github.com/scikit-learn/scikit-learn/issues/21755 */display: inline-block !important;position: relative;}#sk-container-id-7 div.sk-text-repr-fallback {display: none;}</style><div id=\"sk-container-id-7\" class=\"sk-top-container\"><div class=\"sk-text-repr-fallback\"><pre>LogisticRegression()</pre><b>In a Jupyter environment, please rerun this cell to show the HTML representation or trust the notebook. <br />On GitHub, the HTML representation is unable to render, please try loading this page with nbviewer.org.</b></div><div class=\"sk-container\" hidden><div class=\"sk-item\"><div class=\"sk-estimator sk-toggleable\"><input class=\"sk-toggleable__control sk-hidden--visually\" id=\"sk-estimator-id-7\" type=\"checkbox\" checked><label for=\"sk-estimator-id-7\" class=\"sk-toggleable__label sk-toggleable__label-arrow\">LogisticRegression</label><div class=\"sk-toggleable__content\"><pre>LogisticRegression()</pre></div></div></div></div></div>"
            ],
            "text/plain": [
              "LogisticRegression()"
            ]
          },
          "execution_count": 165,
          "metadata": {},
          "output_type": "execute_result"
        }
      ],
      "source": [
        "model.fit(x_train,y_train)"
      ]
    },
    {
      "cell_type": "code",
      "execution_count": 166,
      "metadata": {
        "id": "F63kbT9O1Oi0"
      },
      "outputs": [],
      "source": [
        "#predict"
      ]
    },
    {
      "cell_type": "code",
      "execution_count": 167,
      "metadata": {
        "id": "EZes8a5a1OgX"
      },
      "outputs": [],
      "source": [
        "y_pred = model.predict(x_test)"
      ]
    },
    {
      "cell_type": "code",
      "execution_count": 168,
      "metadata": {
        "id": "YIuraZEu6wGc"
      },
      "outputs": [],
      "source": [
        "bar = pd.DataFrame({'Actual':y_test,'Predicted':y_pred})"
      ]
    },
    {
      "cell_type": "code",
      "execution_count": 169,
      "metadata": {
        "colab": {
          "base_uri": "https://localhost:8080/",
          "height": 423
        },
        "id": "ZgYPG8cJ68uH",
        "outputId": "d7550eb4-a3d9-4026-ded9-69f45969744f"
      },
      "outputs": [
        {
          "data": {
            "text/html": [
              "<div>\n",
              "<style scoped>\n",
              "    .dataframe tbody tr th:only-of-type {\n",
              "        vertical-align: middle;\n",
              "    }\n",
              "\n",
              "    .dataframe tbody tr th {\n",
              "        vertical-align: top;\n",
              "    }\n",
              "\n",
              "    .dataframe thead th {\n",
              "        text-align: right;\n",
              "    }\n",
              "</style>\n",
              "<table border=\"1\" class=\"dataframe\">\n",
              "  <thead>\n",
              "    <tr style=\"text-align: right;\">\n",
              "      <th></th>\n",
              "      <th>Actual</th>\n",
              "      <th>Predicted</th>\n",
              "    </tr>\n",
              "  </thead>\n",
              "  <tbody>\n",
              "    <tr>\n",
              "      <th>10650</th>\n",
              "      <td>21</td>\n",
              "      <td>4</td>\n",
              "    </tr>\n",
              "    <tr>\n",
              "      <th>2041</th>\n",
              "      <td>26</td>\n",
              "      <td>8</td>\n",
              "    </tr>\n",
              "    <tr>\n",
              "      <th>8668</th>\n",
              "      <td>24</td>\n",
              "      <td>5</td>\n",
              "    </tr>\n",
              "    <tr>\n",
              "      <th>1114</th>\n",
              "      <td>29</td>\n",
              "      <td>16</td>\n",
              "    </tr>\n",
              "    <tr>\n",
              "      <th>13902</th>\n",
              "      <td>19</td>\n",
              "      <td>33</td>\n",
              "    </tr>\n",
              "    <tr>\n",
              "      <th>...</th>\n",
              "      <td>...</td>\n",
              "      <td>...</td>\n",
              "    </tr>\n",
              "    <tr>\n",
              "      <th>17350</th>\n",
              "      <td>2</td>\n",
              "      <td>31</td>\n",
              "    </tr>\n",
              "    <tr>\n",
              "      <th>5588</th>\n",
              "      <td>16</td>\n",
              "      <td>28</td>\n",
              "    </tr>\n",
              "    <tr>\n",
              "      <th>16241</th>\n",
              "      <td>24</td>\n",
              "      <td>29</td>\n",
              "    </tr>\n",
              "    <tr>\n",
              "      <th>10395</th>\n",
              "      <td>6</td>\n",
              "      <td>17</td>\n",
              "    </tr>\n",
              "    <tr>\n",
              "      <th>4757</th>\n",
              "      <td>11</td>\n",
              "      <td>2</td>\n",
              "    </tr>\n",
              "  </tbody>\n",
              "</table>\n",
              "<p>19000 rows × 2 columns</p>\n",
              "</div>"
            ],
            "text/plain": [
              "       Actual  Predicted\n",
              "10650      21          4\n",
              "2041       26          8\n",
              "8668       24          5\n",
              "1114       29         16\n",
              "13902      19         33\n",
              "...       ...        ...\n",
              "17350       2         31\n",
              "5588       16         28\n",
              "16241      24         29\n",
              "10395       6         17\n",
              "4757       11          2\n",
              "\n",
              "[19000 rows x 2 columns]"
            ]
          },
          "execution_count": 169,
          "metadata": {},
          "output_type": "execute_result"
        }
      ],
      "source": [
        "bar"
      ]
    },
    {
      "cell_type": "code",
      "execution_count": 170,
      "metadata": {
        "colab": {
          "base_uri": "https://localhost:8080/"
        },
        "id": "ujXXcB1268qt",
        "outputId": "e5442e7f-9851-4a9d-b7da-0095f52d2d16"
      },
      "outputs": [
        {
          "data": {
            "text/plain": [
              "array([ 4,  8,  5, ..., 29, 17,  2], dtype=int8)"
            ]
          },
          "execution_count": 170,
          "metadata": {},
          "output_type": "execute_result"
        }
      ],
      "source": [
        "y_pred"
      ]
    },
    {
      "cell_type": "code",
      "execution_count": 171,
      "metadata": {
        "colab": {
          "base_uri": "https://localhost:8080/"
        },
        "id": "c1332_wxXD8b",
        "outputId": "41663d9d-f5fe-497d-a6cd-a2b602b893fc"
      },
      "outputs": [
        {
          "name": "stdout",
          "output_type": "stream",
          "text": [
            "433\n"
          ]
        }
      ],
      "source": [
        "count =0\n",
        "for i in range(19000):\n",
        "  if y_pred[i]==15:\n",
        "    #print(targets['Suggested Job Role'][i])\n",
        "    count= count+1\n",
        "print(count)"
      ]
    },
    {
      "cell_type": "code",
      "execution_count": 172,
      "metadata": {
        "colab": {
          "base_uri": "https://localhost:8080/",
          "height": 288
        },
        "id": "WKzeNvni1OeG",
        "outputId": "ad8e30c7-45b2-458e-beb2-9a2b58089d4a"
      },
      "outputs": [
        {
          "data": {
            "text/plain": [
              "<AxesSubplot:>"
            ]
          },
          "execution_count": 172,
          "metadata": {},
          "output_type": "execute_result"
        },
        {
          "data": {
            "image/png": "[encoded data removed]",
            "text/plain": [
              "<Figure size 432x288 with 2 Axes>"
            ]
          },
          "metadata": {
            "needs_background": "light"
          },
          "output_type": "display_data"
        }
      ],
      "source": [
        "sns.heatmap(bar)"
      ]
    },
    {
      "cell_type": "code",
      "execution_count": 173,
      "metadata": {
        "colab": {
          "base_uri": "https://localhost:8080/",
          "height": 631
        },
        "id": "Rq-82qx87jsd",
        "outputId": "98846b5d-2b4c-4c8b-88ef-1e767460d91a"
      },
      "outputs": [],
      "source": [
        "#bar.plot(kind='bar',figsize=(15,10))"
      ]
    },
    {
      "cell_type": "code",
      "execution_count": 174,
      "metadata": {
        "colab": {
          "base_uri": "https://localhost:8080/"
        },
        "id": "CdRr5HSL7jo8",
        "outputId": "1f119947-63ba-49ff-adc6-789de4feb551"
      },
      "outputs": [
        {
          "data": {
            "text/plain": [
              "0.8580368973472404"
            ]
          },
          "execution_count": 174,
          "metadata": {},
          "output_type": "execute_result"
        }
      ],
      "source": [
        "#to find the accuracy\n",
        "from sklearn.metrics import r2_score\n",
        "r2_score(y_test,y_pred)"
      ]
    },
    {
      "cell_type": "markdown",
      "metadata": {
        "id": "8Q5_7ibrTM_k"
      },
      "source": [
        "# **Serialization**"
      ]
    },
    {
      "cell_type": "code",
      "execution_count": 175,
      "metadata": {
        "id": "Gj5eqnIp7jnK"
      },
      "outputs": [],
      "source": [
        "import pickle"
      ]
    },
    {
      "cell_type": "code",
      "execution_count": 176,
      "metadata": {
        "id": "AtrPUDxd7jkP"
      },
      "outputs": [],
      "source": [
        "pickle.dump(model,open('prediction_model.pkl','wb'))"
      ]
    },
    {
      "cell_type": "code",
      "execution_count": 177,
      "metadata": {
        "id": "KyRvf6s67jhj"
      },
      "outputs": [],
      "source": [
        "reload_model = pickle.load(open('prediction_model.pkl','rb'))"
      ]
    },
    {
      "cell_type": "code",
      "execution_count": 178,
      "metadata": {
        "colab": {
          "base_uri": "https://localhost:8080/"
        },
        "id": "fRc58wrM7jfM",
        "outputId": "532c91b6-ab40-44ca-92b3-181dd1735850"
      },
      "outputs": [
        {
          "name": "stderr",
          "output_type": "stream",
          "text": [
            "c:\\Users\\curio\\AppData\\Local\\Programs\\Python\\Python310\\lib\\site-packages\\sklearn\\linear_model\\_logistic.py:444: ConvergenceWarning: lbfgs failed to converge (status=1):\n",
            "STOP: TOTAL NO. of ITERATIONS REACHED LIMIT.\n",
            "\n",
            "Increase the number of iterations (max_iter) or scale the data as shown in:\n",
            "    https://scikit-learn.org/stable/modules/preprocessing.html\n",
            "Please also refer to the documentation for alternative solver options:\n",
            "    https://scikit-learn.org/stable/modules/linear_model.html#logistic-regression\n",
            "  n_iter_i = _check_optimize_result(\n"
          ]
        },
        {
          "data": {
            "text/html": [
              "<style>#sk-container-id-8 {color: black;background-color: white;}#sk-container-id-8 pre{padding: 0;}#sk-container-id-8 div.sk-toggleable {background-color: white;}#sk-container-id-8 label.sk-toggleable__label {cursor: pointer;display: block;width: 100%;margin-bottom: 0;padding: 0.3em;box-sizing: border-box;text-align: center;}#sk-container-id-8 label.sk-toggleable__label-arrow:before {content: \"▸\";float: left;margin-right: 0.25em;color: #696969;}#sk-container-id-8 label.sk-toggleable__label-arrow:hover:before {color: black;}#sk-container-id-8 div.sk-estimator:hover label.sk-toggleable__label-arrow:before {color: black;}#sk-container-id-8 div.sk-toggleable__content {max-height: 0;max-width: 0;overflow: hidden;text-align: left;background-color: #f0f8ff;}#sk-container-id-8 div.sk-toggleable__content pre {margin: 0.2em;color: black;border-radius: 0.25em;background-color: #f0f8ff;}#sk-container-id-8 input.sk-toggleable__control:checked~div.sk-toggleable__content {max-height: 200px;max-width: 100%;overflow: auto;}#sk-container-id-8 input.sk-toggleable__control:checked~label.sk-toggleable__label-arrow:before {content: \"▾\";}#sk-container-id-8 div.sk-estimator input.sk-toggleable__control:checked~label.sk-toggleable__label {background-color: #d4ebff;}#sk-container-id-8 div.sk-label input.sk-toggleable__control:checked~label.sk-toggleable__label {background-color: #d4ebff;}#sk-container-id-8 input.sk-hidden--visually {border: 0;clip: rect(1px 1px 1px 1px);clip: rect(1px, 1px, 1px, 1px);height: 1px;margin: -1px;overflow: hidden;padding: 0;position: absolute;width: 1px;}#sk-container-id-8 div.sk-estimator {font-family: monospace;background-color: #f0f8ff;border: 1px dotted black;border-radius: 0.25em;box-sizing: border-box;margin-bottom: 0.5em;}#sk-container-id-8 div.sk-estimator:hover {background-color: #d4ebff;}#sk-container-id-8 div.sk-parallel-item::after {content: \"\";width: 100%;border-bottom: 1px solid gray;flex-grow: 1;}#sk-container-id-8 div.sk-label:hover label.sk-toggleable__label {background-color: #d4ebff;}#sk-container-id-8 div.sk-serial::before {content: \"\";position: absolute;border-left: 1px solid gray;box-sizing: border-box;top: 0;bottom: 0;left: 50%;z-index: 0;}#sk-container-id-8 div.sk-serial {display: flex;flex-direction: column;align-items: center;background-color: white;padding-right: 0.2em;padding-left: 0.2em;position: relative;}#sk-container-id-8 div.sk-item {position: relative;z-index: 1;}#sk-container-id-8 div.sk-parallel {display: flex;align-items: stretch;justify-content: center;background-color: white;position: relative;}#sk-container-id-8 div.sk-item::before, #sk-container-id-8 div.sk-parallel-item::before {content: \"\";position: absolute;border-left: 1px solid gray;box-sizing: border-box;top: 0;bottom: 0;left: 50%;z-index: -1;}#sk-container-id-8 div.sk-parallel-item {display: flex;flex-direction: column;z-index: 1;position: relative;background-color: white;}#sk-container-id-8 div.sk-parallel-item:first-child::after {align-self: flex-end;width: 50%;}#sk-container-id-8 div.sk-parallel-item:last-child::after {align-self: flex-start;width: 50%;}#sk-container-id-8 div.sk-parallel-item:only-child::after {width: 0;}#sk-container-id-8 div.sk-dashed-wrapped {border: 1px dashed gray;margin: 0 0.4em 0.5em 0.4em;box-sizing: border-box;padding-bottom: 0.4em;background-color: white;}#sk-container-id-8 div.sk-label label {font-family: monospace;font-weight: bold;display: inline-block;line-height: 1.2em;}#sk-container-id-8 div.sk-label-container {text-align: center;}#sk-container-id-8 div.sk-container {/* jupyter's `normalize.less` sets `[hidden] { display: none; }` but bootstrap.min.css set `[hidden] { display: none !important; }` so we also need the `!important` here to be able to override the default hidden behavior on the sphinx rendered scikit-learn.org. See: https://github.com/scikit-learn/scikit-learn/issues/21755 */display: inline-block !important;position: relative;}#sk-container-id-8 div.sk-text-repr-fallback {display: none;}</style><div id=\"sk-container-id-8\" class=\"sk-top-container\"><div class=\"sk-text-repr-fallback\"><pre>LogisticRegression()</pre><b>In a Jupyter environment, please rerun this cell to show the HTML representation or trust the notebook. <br />On GitHub, the HTML representation is unable to render, please try loading this page with nbviewer.org.</b></div><div class=\"sk-container\" hidden><div class=\"sk-item\"><div class=\"sk-estimator sk-toggleable\"><input class=\"sk-toggleable__control sk-hidden--visually\" id=\"sk-estimator-id-8\" type=\"checkbox\" checked><label for=\"sk-estimator-id-8\" class=\"sk-toggleable__label sk-toggleable__label-arrow\">LogisticRegression</label><div class=\"sk-toggleable__content\"><pre>LogisticRegression()</pre></div></div></div></div></div>"
            ],
            "text/plain": [
              "LogisticRegression()"
            ]
          },
          "execution_count": 178,
          "metadata": {},
          "output_type": "execute_result"
        }
      ],
      "source": [
        "reload_model.fit(x_train,y_train)"
      ]
    },
    {
      "cell_type": "code",
      "execution_count": 179,
      "metadata": {
        "colab": {
          "base_uri": "https://localhost:8080/"
        },
        "id": "lQ5bWzVk1EF5",
        "outputId": "7bc1a8d1-f7c5-4ff9-fb8e-bc69efac741d"
      },
      "outputs": [
        {
          "data": {
            "text/plain": [
              "array([ 4,  8,  5, ..., 29, 17,  2], dtype=int8)"
            ]
          },
          "execution_count": 179,
          "metadata": {},
          "output_type": "execute_result"
        }
      ],
      "source": [
        "reload_model.predict(x_test)"
      ]
    },
    {
      "cell_type": "code",
      "execution_count": 180,
      "metadata": {
        "colab": {
          "base_uri": "https://localhost:8080/"
        },
        "id": "KhbfxvxA1D9s",
        "outputId": "dd38bd8a-73b3-455b-8f73-2ec04de6e0d2"
      },
      "outputs": [
        {
          "data": {
            "text/plain": [
              "0.8580368973472404"
            ]
          },
          "execution_count": 180,
          "metadata": {},
          "output_type": "execute_result"
        }
      ],
      "source": [
        "#to find the accuracy\n",
        "from sklearn.metrics import r2_score\n",
        "r2_score(y_test,y_pred)"
      ]
    }
  ],
  "metadata": {
    "colab": {
      "name": "jobIT.ipynb",
      "provenance": []
    },
    "kernelspec": {
      "display_name": "Python 3.10.5 64-bit",
      "language": "python",
      "name": "python3"
    },
    "language_info": {
      "codemirror_mode": {
        "name": "ipython",
        "version": 3
      },
      "file_extension": ".py",
      "mimetype": "text/x-python",
      "name": "python",
      "nbconvert_exporter": "python",
      "pygments_lexer": "ipython3",
      "version": "3.10.5"
    },
    "vscode": {
      "interpreter": {
        "hash": "fe77595ee334b714341e8665571ca03688fe0079ad68499af542c806a84991ce"
      }
    }
  },
  "nbformat": 4,
  "nbformat_minor": 0
}
